{
 "cells": [
  {
   "cell_type": "markdown",
   "id": "0e910eba",
   "metadata": {},
   "source": [
    "### Importing Libraries"
   ]
  },
  {
   "cell_type": "code",
   "execution_count": 2,
   "id": "4f97cf8d-11d6-41a2-a8af-c539517686c3",
   "metadata": {},
   "outputs": [],
   "source": [
    "import pandas as pd\n",
    "import numpy as np\n",
    "import altair as alt\n",
    "alt.data_transformers.disable_max_rows()\n",
    "from datetime import datetime\n",
    "from scipy.stats import ttest_ind"
   ]
  },
  {
   "cell_type": "markdown",
   "id": "831a2235",
   "metadata": {},
   "source": [
    "### Exploring the data"
   ]
  },
  {
   "cell_type": "code",
   "execution_count": 14,
   "id": "e7bf077a",
   "metadata": {},
   "outputs": [
    {
     "data": {
      "text/html": [
       "<div>\n",
       "<style scoped>\n",
       "    .dataframe tbody tr th:only-of-type {\n",
       "        vertical-align: middle;\n",
       "    }\n",
       "\n",
       "    .dataframe tbody tr th {\n",
       "        vertical-align: top;\n",
       "    }\n",
       "\n",
       "    .dataframe thead th {\n",
       "        text-align: right;\n",
       "    }\n",
       "</style>\n",
       "<table border=\"1\" class=\"dataframe\">\n",
       "  <thead>\n",
       "    <tr style=\"text-align: right;\">\n",
       "      <th></th>\n",
       "      <th>userid</th>\n",
       "      <th>dt</th>\n",
       "      <th>activity_level</th>\n",
       "    </tr>\n",
       "  </thead>\n",
       "  <tbody>\n",
       "    <tr>\n",
       "      <th>0</th>\n",
       "      <td>a5b70ae7-f07c-4773-9df4-ce112bc9dc48</td>\n",
       "      <td>2021-10-01</td>\n",
       "      <td>0</td>\n",
       "    </tr>\n",
       "    <tr>\n",
       "      <th>1</th>\n",
       "      <td>d2646662-269f-49de-aab1-8776afced9a3</td>\n",
       "      <td>2021-10-01</td>\n",
       "      <td>0</td>\n",
       "    </tr>\n",
       "    <tr>\n",
       "      <th>2</th>\n",
       "      <td>c4d1cfa8-283d-49ad-a894-90aedc39c798</td>\n",
       "      <td>2021-10-01</td>\n",
       "      <td>0</td>\n",
       "    </tr>\n",
       "    <tr>\n",
       "      <th>3</th>\n",
       "      <td>6889f87f-5356-4904-a35a-6ea5020011db</td>\n",
       "      <td>2021-10-01</td>\n",
       "      <td>0</td>\n",
       "    </tr>\n",
       "    <tr>\n",
       "      <th>4</th>\n",
       "      <td>dbee604c-474a-4c9d-b013-508e5a0e3059</td>\n",
       "      <td>2021-10-01</td>\n",
       "      <td>0</td>\n",
       "    </tr>\n",
       "  </tbody>\n",
       "</table>\n",
       "</div>"
      ],
      "text/plain": [
       "                                 userid          dt  activity_level\n",
       "0  a5b70ae7-f07c-4773-9df4-ce112bc9dc48  2021-10-01               0\n",
       "1  d2646662-269f-49de-aab1-8776afced9a3  2021-10-01               0\n",
       "2  c4d1cfa8-283d-49ad-a894-90aedc39c798  2021-10-01               0\n",
       "3  6889f87f-5356-4904-a35a-6ea5020011db  2021-10-01               0\n",
       "4  dbee604c-474a-4c9d-b013-508e5a0e3059  2021-10-01               0"
      ]
     },
     "execution_count": 14,
     "metadata": {},
     "output_type": "execute_result"
    }
   ],
   "source": [
    "# The data set contains number of activities per user per day\n",
    "data = pd.read_csv(\"./Activity_pretest.csv\")\n",
    "data.head()"
   ]
  },
  {
   "cell_type": "code",
   "execution_count": 17,
   "id": "fc744a4d",
   "metadata": {},
   "outputs": [
    {
     "data": {
      "text/html": [
       "<div>\n",
       "<style scoped>\n",
       "    .dataframe tbody tr th:only-of-type {\n",
       "        vertical-align: middle;\n",
       "    }\n",
       "\n",
       "    .dataframe tbody tr th {\n",
       "        vertical-align: top;\n",
       "    }\n",
       "\n",
       "    .dataframe thead th {\n",
       "        text-align: right;\n",
       "    }\n",
       "</style>\n",
       "<table border=\"1\" class=\"dataframe\">\n",
       "  <thead>\n",
       "    <tr style=\"text-align: right;\">\n",
       "      <th></th>\n",
       "      <th>dt</th>\n",
       "      <th>activity_level</th>\n",
       "      <th>userid</th>\n",
       "    </tr>\n",
       "  </thead>\n",
       "  <tbody>\n",
       "    <tr>\n",
       "      <th>0</th>\n",
       "      <td>2021-10-01</td>\n",
       "      <td>1</td>\n",
       "      <td>1602</td>\n",
       "    </tr>\n",
       "    <tr>\n",
       "      <th>1</th>\n",
       "      <td>2021-10-01</td>\n",
       "      <td>2</td>\n",
       "      <td>1507</td>\n",
       "    </tr>\n",
       "    <tr>\n",
       "      <th>2</th>\n",
       "      <td>2021-10-01</td>\n",
       "      <td>3</td>\n",
       "      <td>1587</td>\n",
       "    </tr>\n",
       "    <tr>\n",
       "      <th>3</th>\n",
       "      <td>2021-10-01</td>\n",
       "      <td>4</td>\n",
       "      <td>1551</td>\n",
       "    </tr>\n",
       "    <tr>\n",
       "      <th>4</th>\n",
       "      <td>2021-10-01</td>\n",
       "      <td>5</td>\n",
       "      <td>1586</td>\n",
       "    </tr>\n",
       "    <tr>\n",
       "      <th>...</th>\n",
       "      <td>...</td>\n",
       "      <td>...</td>\n",
       "      <td>...</td>\n",
       "    </tr>\n",
       "    <tr>\n",
       "      <th>615</th>\n",
       "      <td>2021-10-31</td>\n",
       "      <td>16</td>\n",
       "      <td>1499</td>\n",
       "    </tr>\n",
       "    <tr>\n",
       "      <th>616</th>\n",
       "      <td>2021-10-31</td>\n",
       "      <td>17</td>\n",
       "      <td>1534</td>\n",
       "    </tr>\n",
       "    <tr>\n",
       "      <th>617</th>\n",
       "      <td>2021-10-31</td>\n",
       "      <td>18</td>\n",
       "      <td>1531</td>\n",
       "    </tr>\n",
       "    <tr>\n",
       "      <th>618</th>\n",
       "      <td>2021-10-31</td>\n",
       "      <td>19</td>\n",
       "      <td>1616</td>\n",
       "    </tr>\n",
       "    <tr>\n",
       "      <th>619</th>\n",
       "      <td>2021-10-31</td>\n",
       "      <td>20</td>\n",
       "      <td>783</td>\n",
       "    </tr>\n",
       "  </tbody>\n",
       "</table>\n",
       "<p>620 rows × 3 columns</p>\n",
       "</div>"
      ],
      "text/plain": [
       "             dt  activity_level  userid\n",
       "0    2021-10-01               1    1602\n",
       "1    2021-10-01               2    1507\n",
       "2    2021-10-01               3    1587\n",
       "3    2021-10-01               4    1551\n",
       "4    2021-10-01               5    1586\n",
       "..          ...             ...     ...\n",
       "615  2021-10-31              16    1499\n",
       "616  2021-10-31              17    1534\n",
       "617  2021-10-31              18    1531\n",
       "618  2021-10-31              19    1616\n",
       "619  2021-10-31              20     783\n",
       "\n",
       "[620 rows x 3 columns]"
      ]
     },
     "execution_count": 17,
     "metadata": {},
     "output_type": "execute_result"
    }
   ],
   "source": [
    "activity = data[data['activity_level'] > 0].groupby(['dt', 'activity_level']).count().reset_index()\n",
    "activity"
   ]
  },
  {
   "cell_type": "code",
   "execution_count": 18,
   "id": "5e1bf1d3",
   "metadata": {},
   "outputs": [
    {
     "data": {
      "text/html": [
       "\n",
       "<style>\n",
       "  #altair-viz-1ccd91ef839e4694ac34bd92ff6fc0d7.vega-embed {\n",
       "    width: 100%;\n",
       "    display: flex;\n",
       "  }\n",
       "\n",
       "  #altair-viz-1ccd91ef839e4694ac34bd92ff6fc0d7.vega-embed details,\n",
       "  #altair-viz-1ccd91ef839e4694ac34bd92ff6fc0d7.vega-embed details summary {\n",
       "    position: relative;\n",
       "  }\n",
       "</style>\n",
       "<div id=\"altair-viz-1ccd91ef839e4694ac34bd92ff6fc0d7\"></div>\n",
       "<script type=\"text/javascript\">\n",
       "  var VEGA_DEBUG = (typeof VEGA_DEBUG == \"undefined\") ? {} : VEGA_DEBUG;\n",
       "  (function(spec, embedOpt){\n",
       "    let outputDiv = document.currentScript.previousElementSibling;\n",
       "    if (outputDiv.id !== \"altair-viz-1ccd91ef839e4694ac34bd92ff6fc0d7\") {\n",
       "      outputDiv = document.getElementById(\"altair-viz-1ccd91ef839e4694ac34bd92ff6fc0d7\");\n",
       "    }\n",
       "    const paths = {\n",
       "      \"vega\": \"https://cdn.jsdelivr.net/npm/vega@5?noext\",\n",
       "      \"vega-lib\": \"https://cdn.jsdelivr.net/npm/vega-lib?noext\",\n",
       "      \"vega-lite\": \"https://cdn.jsdelivr.net/npm/vega-lite@5.16.3?noext\",\n",
       "      \"vega-embed\": \"https://cdn.jsdelivr.net/npm/vega-embed@6?noext\",\n",
       "    };\n",
       "\n",
       "    function maybeLoadScript(lib, version) {\n",
       "      var key = `${lib.replace(\"-\", \"\")}_version`;\n",
       "      return (VEGA_DEBUG[key] == version) ?\n",
       "        Promise.resolve(paths[lib]) :\n",
       "        new Promise(function(resolve, reject) {\n",
       "          var s = document.createElement('script');\n",
       "          document.getElementsByTagName(\"head\")[0].appendChild(s);\n",
       "          s.async = true;\n",
       "          s.onload = () => {\n",
       "            VEGA_DEBUG[key] = version;\n",
       "            return resolve(paths[lib]);\n",
       "          };\n",
       "          s.onerror = () => reject(`Error loading script: ${paths[lib]}`);\n",
       "          s.src = paths[lib];\n",
       "        });\n",
       "    }\n",
       "\n",
       "    function showError(err) {\n",
       "      outputDiv.innerHTML = `<div class=\"error\" style=\"color:red;\">${err}</div>`;\n",
       "      throw err;\n",
       "    }\n",
       "\n",
       "    function displayChart(vegaEmbed) {\n",
       "      vegaEmbed(outputDiv, spec, embedOpt)\n",
       "        .catch(err => showError(`Javascript Error: ${err.message}<br>This usually means there's a typo in your chart specification. See the javascript console for the full traceback.`));\n",
       "    }\n",
       "\n",
       "    if(typeof define === \"function\" && define.amd) {\n",
       "      requirejs.config({paths});\n",
       "      require([\"vega-embed\"], displayChart, err => showError(`Error loading script: ${err.message}`));\n",
       "    } else {\n",
       "      maybeLoadScript(\"vega\", \"5\")\n",
       "        .then(() => maybeLoadScript(\"vega-lite\", \"5.16.3\"))\n",
       "        .then(() => maybeLoadScript(\"vega-embed\", \"6\"))\n",
       "        .catch(showError)\n",
       "        .then(() => displayChart(vegaEmbed));\n",
       "    }\n",
       "  })({\"config\": {\"view\": {\"continuousWidth\": 300, \"continuousHeight\": 300}}, \"data\": {\"name\": \"data-23bb5d861b06c59f8360185c22900bf5\"}, \"mark\": {\"type\": \"line\", \"size\": 1}, \"encoding\": {\"color\": {\"field\": \"activity_level\", \"type\": \"nominal\"}, \"tooltip\": [{\"field\": \"activity_level\", \"type\": \"quantitative\"}], \"x\": {\"axis\": {\"title\": \"date\"}, \"field\": \"dt\", \"type\": \"temporal\"}, \"y\": {\"axis\": {\"title\": \"number of users\"}, \"field\": \"userid\", \"type\": \"quantitative\"}}, \"height\": 400, \"width\": 600, \"$schema\": \"https://vega.github.io/schema/vega-lite/v5.16.3.json\", \"datasets\": {\"data-23bb5d861b06c59f8360185c22900bf5\": [{\"dt\": \"2021-10-01\", \"activity_level\": 1, \"userid\": 1602}, {\"dt\": \"2021-10-01\", \"activity_level\": 2, \"userid\": 1507}, {\"dt\": \"2021-10-01\", \"activity_level\": 3, \"userid\": 1587}, {\"dt\": \"2021-10-01\", \"activity_level\": 4, \"userid\": 1551}, {\"dt\": \"2021-10-01\", \"activity_level\": 5, \"userid\": 1586}, {\"dt\": \"2021-10-01\", \"activity_level\": 6, \"userid\": 1640}, {\"dt\": \"2021-10-01\", \"activity_level\": 7, \"userid\": 1508}, {\"dt\": \"2021-10-01\", \"activity_level\": 8, \"userid\": 1571}, {\"dt\": \"2021-10-01\", \"activity_level\": 9, \"userid\": 1576}, {\"dt\": \"2021-10-01\", \"activity_level\": 10, \"userid\": 1593}, {\"dt\": \"2021-10-01\", \"activity_level\": 11, \"userid\": 1497}, {\"dt\": \"2021-10-01\", \"activity_level\": 12, \"userid\": 1623}, {\"dt\": \"2021-10-01\", \"activity_level\": 13, \"userid\": 1554}, {\"dt\": \"2021-10-01\", \"activity_level\": 14, \"userid\": 1572}, {\"dt\": \"2021-10-01\", \"activity_level\": 15, \"userid\": 1508}, {\"dt\": \"2021-10-01\", \"activity_level\": 16, \"userid\": 1628}, {\"dt\": \"2021-10-01\", \"activity_level\": 17, \"userid\": 1593}, {\"dt\": \"2021-10-01\", \"activity_level\": 18, \"userid\": 1597}, {\"dt\": \"2021-10-01\", \"activity_level\": 19, \"userid\": 1572}, {\"dt\": \"2021-10-01\", \"activity_level\": 20, \"userid\": 769}, {\"dt\": \"2021-10-02\", \"activity_level\": 1, \"userid\": 1582}, {\"dt\": \"2021-10-02\", \"activity_level\": 2, \"userid\": 1543}, {\"dt\": \"2021-10-02\", \"activity_level\": 3, \"userid\": 1545}, {\"dt\": \"2021-10-02\", \"activity_level\": 4, \"userid\": 1618}, {\"dt\": \"2021-10-02\", \"activity_level\": 5, \"userid\": 1607}, {\"dt\": \"2021-10-02\", \"activity_level\": 6, \"userid\": 1563}, {\"dt\": \"2021-10-02\", \"activity_level\": 7, \"userid\": 1560}, {\"dt\": \"2021-10-02\", \"activity_level\": 8, \"userid\": 1557}, {\"dt\": \"2021-10-02\", \"activity_level\": 9, \"userid\": 1602}, {\"dt\": \"2021-10-02\", \"activity_level\": 10, \"userid\": 1593}, {\"dt\": \"2021-10-02\", \"activity_level\": 11, \"userid\": 1590}, {\"dt\": \"2021-10-02\", \"activity_level\": 12, \"userid\": 1579}, {\"dt\": \"2021-10-02\", \"activity_level\": 13, \"userid\": 1572}, {\"dt\": \"2021-10-02\", \"activity_level\": 14, \"userid\": 1532}, {\"dt\": \"2021-10-02\", \"activity_level\": 15, \"userid\": 1587}, {\"dt\": \"2021-10-02\", \"activity_level\": 16, \"userid\": 1620}, {\"dt\": \"2021-10-02\", \"activity_level\": 17, \"userid\": 1545}, {\"dt\": \"2021-10-02\", \"activity_level\": 18, \"userid\": 1611}, {\"dt\": \"2021-10-02\", \"activity_level\": 19, \"userid\": 1611}, {\"dt\": \"2021-10-02\", \"activity_level\": 20, \"userid\": 758}, {\"dt\": \"2021-10-03\", \"activity_level\": 1, \"userid\": 1618}, {\"dt\": \"2021-10-03\", \"activity_level\": 2, \"userid\": 1631}, {\"dt\": \"2021-10-03\", \"activity_level\": 3, \"userid\": 1551}, {\"dt\": \"2021-10-03\", \"activity_level\": 4, \"userid\": 1503}, {\"dt\": \"2021-10-03\", \"activity_level\": 5, \"userid\": 1564}, {\"dt\": \"2021-10-03\", \"activity_level\": 6, \"userid\": 1606}, {\"dt\": \"2021-10-03\", \"activity_level\": 7, \"userid\": 1642}, {\"dt\": \"2021-10-03\", \"activity_level\": 8, \"userid\": 1555}, {\"dt\": \"2021-10-03\", \"activity_level\": 9, \"userid\": 1597}, {\"dt\": \"2021-10-03\", \"activity_level\": 10, \"userid\": 1569}, {\"dt\": \"2021-10-03\", \"activity_level\": 11, \"userid\": 1650}, {\"dt\": \"2021-10-03\", \"activity_level\": 12, \"userid\": 1579}, {\"dt\": \"2021-10-03\", \"activity_level\": 13, \"userid\": 1520}, {\"dt\": \"2021-10-03\", \"activity_level\": 14, \"userid\": 1597}, {\"dt\": \"2021-10-03\", \"activity_level\": 15, \"userid\": 1574}, {\"dt\": \"2021-10-03\", \"activity_level\": 16, \"userid\": 1576}, {\"dt\": \"2021-10-03\", \"activity_level\": 17, \"userid\": 1559}, {\"dt\": \"2021-10-03\", \"activity_level\": 18, \"userid\": 1556}, {\"dt\": \"2021-10-03\", \"activity_level\": 19, \"userid\": 1533}, {\"dt\": \"2021-10-03\", \"activity_level\": 20, \"userid\": 805}, {\"dt\": \"2021-10-04\", \"activity_level\": 1, \"userid\": 1576}, {\"dt\": \"2021-10-04\", \"activity_level\": 2, \"userid\": 1566}, {\"dt\": \"2021-10-04\", \"activity_level\": 3, \"userid\": 1529}, {\"dt\": \"2021-10-04\", \"activity_level\": 4, \"userid\": 1579}, {\"dt\": \"2021-10-04\", \"activity_level\": 5, \"userid\": 1553}, {\"dt\": \"2021-10-04\", \"activity_level\": 6, \"userid\": 1525}, {\"dt\": \"2021-10-04\", \"activity_level\": 7, \"userid\": 1579}, {\"dt\": \"2021-10-04\", \"activity_level\": 8, \"userid\": 1566}, {\"dt\": \"2021-10-04\", \"activity_level\": 9, \"userid\": 1586}, {\"dt\": \"2021-10-04\", \"activity_level\": 10, \"userid\": 1540}, {\"dt\": \"2021-10-04\", \"activity_level\": 11, \"userid\": 1569}, {\"dt\": \"2021-10-04\", \"activity_level\": 12, \"userid\": 1589}, {\"dt\": \"2021-10-04\", \"activity_level\": 13, \"userid\": 1586}, {\"dt\": \"2021-10-04\", \"activity_level\": 14, \"userid\": 1574}, {\"dt\": \"2021-10-04\", \"activity_level\": 15, \"userid\": 1580}, {\"dt\": \"2021-10-04\", \"activity_level\": 16, \"userid\": 1539}, {\"dt\": \"2021-10-04\", \"activity_level\": 17, \"userid\": 1586}, {\"dt\": \"2021-10-04\", \"activity_level\": 18, \"userid\": 1577}, {\"dt\": \"2021-10-04\", \"activity_level\": 19, \"userid\": 1617}, {\"dt\": \"2021-10-04\", \"activity_level\": 20, \"userid\": 783}, {\"dt\": \"2021-10-05\", \"activity_level\": 1, \"userid\": 1531}, {\"dt\": \"2021-10-05\", \"activity_level\": 2, \"userid\": 1636}, {\"dt\": \"2021-10-05\", \"activity_level\": 3, \"userid\": 1556}, {\"dt\": \"2021-10-05\", \"activity_level\": 4, \"userid\": 1555}, {\"dt\": \"2021-10-05\", \"activity_level\": 5, \"userid\": 1581}, {\"dt\": \"2021-10-05\", \"activity_level\": 6, \"userid\": 1561}, {\"dt\": \"2021-10-05\", \"activity_level\": 7, \"userid\": 1541}, {\"dt\": \"2021-10-05\", \"activity_level\": 8, \"userid\": 1554}, {\"dt\": \"2021-10-05\", \"activity_level\": 9, \"userid\": 1609}, {\"dt\": \"2021-10-05\", \"activity_level\": 10, \"userid\": 1557}, {\"dt\": \"2021-10-05\", \"activity_level\": 11, \"userid\": 1529}, {\"dt\": \"2021-10-05\", \"activity_level\": 12, \"userid\": 1596}, {\"dt\": \"2021-10-05\", \"activity_level\": 13, \"userid\": 1569}, {\"dt\": \"2021-10-05\", \"activity_level\": 14, \"userid\": 1569}, {\"dt\": \"2021-10-05\", \"activity_level\": 15, \"userid\": 1584}, {\"dt\": \"2021-10-05\", \"activity_level\": 16, \"userid\": 1519}, {\"dt\": \"2021-10-05\", \"activity_level\": 17, \"userid\": 1564}, {\"dt\": \"2021-10-05\", \"activity_level\": 18, \"userid\": 1584}, {\"dt\": \"2021-10-05\", \"activity_level\": 19, \"userid\": 1584}, {\"dt\": \"2021-10-05\", \"activity_level\": 20, \"userid\": 809}, {\"dt\": \"2021-10-06\", \"activity_level\": 1, \"userid\": 1585}, {\"dt\": \"2021-10-06\", \"activity_level\": 2, \"userid\": 1644}, {\"dt\": \"2021-10-06\", \"activity_level\": 3, \"userid\": 1588}, {\"dt\": \"2021-10-06\", \"activity_level\": 4, \"userid\": 1558}, {\"dt\": \"2021-10-06\", \"activity_level\": 5, \"userid\": 1529}, {\"dt\": \"2021-10-06\", \"activity_level\": 6, \"userid\": 1591}, {\"dt\": \"2021-10-06\", \"activity_level\": 7, \"userid\": 1625}, {\"dt\": \"2021-10-06\", \"activity_level\": 8, \"userid\": 1562}, {\"dt\": \"2021-10-06\", \"activity_level\": 9, \"userid\": 1573}, {\"dt\": \"2021-10-06\", \"activity_level\": 10, \"userid\": 1546}, {\"dt\": \"2021-10-06\", \"activity_level\": 11, \"userid\": 1587}, {\"dt\": \"2021-10-06\", \"activity_level\": 12, \"userid\": 1606}, {\"dt\": \"2021-10-06\", \"activity_level\": 13, \"userid\": 1544}, {\"dt\": \"2021-10-06\", \"activity_level\": 14, \"userid\": 1500}, {\"dt\": \"2021-10-06\", \"activity_level\": 15, \"userid\": 1542}, {\"dt\": \"2021-10-06\", \"activity_level\": 16, \"userid\": 1554}, {\"dt\": \"2021-10-06\", \"activity_level\": 17, \"userid\": 1545}, {\"dt\": \"2021-10-06\", \"activity_level\": 18, \"userid\": 1561}, {\"dt\": \"2021-10-06\", \"activity_level\": 19, \"userid\": 1600}, {\"dt\": \"2021-10-06\", \"activity_level\": 20, \"userid\": 799}, {\"dt\": \"2021-10-07\", \"activity_level\": 1, \"userid\": 1534}, {\"dt\": \"2021-10-07\", \"activity_level\": 2, \"userid\": 1584}, {\"dt\": \"2021-10-07\", \"activity_level\": 3, \"userid\": 1540}, {\"dt\": \"2021-10-07\", \"activity_level\": 4, \"userid\": 1608}, {\"dt\": \"2021-10-07\", \"activity_level\": 5, \"userid\": 1610}, {\"dt\": \"2021-10-07\", \"activity_level\": 6, \"userid\": 1597}, {\"dt\": \"2021-10-07\", \"activity_level\": 7, \"userid\": 1559}, {\"dt\": \"2021-10-07\", \"activity_level\": 8, \"userid\": 1610}, {\"dt\": \"2021-10-07\", \"activity_level\": 9, \"userid\": 1524}, {\"dt\": \"2021-10-07\", \"activity_level\": 10, \"userid\": 1592}, {\"dt\": \"2021-10-07\", \"activity_level\": 11, \"userid\": 1549}, {\"dt\": \"2021-10-07\", \"activity_level\": 12, \"userid\": 1592}, {\"dt\": \"2021-10-07\", \"activity_level\": 13, \"userid\": 1538}, {\"dt\": \"2021-10-07\", \"activity_level\": 14, \"userid\": 1572}, {\"dt\": \"2021-10-07\", \"activity_level\": 15, \"userid\": 1557}, {\"dt\": \"2021-10-07\", \"activity_level\": 16, \"userid\": 1583}, {\"dt\": \"2021-10-07\", \"activity_level\": 17, \"userid\": 1609}, {\"dt\": \"2021-10-07\", \"activity_level\": 18, \"userid\": 1554}, {\"dt\": \"2021-10-07\", \"activity_level\": 19, \"userid\": 1544}, {\"dt\": \"2021-10-07\", \"activity_level\": 20, \"userid\": 781}, {\"dt\": \"2021-10-08\", \"activity_level\": 1, \"userid\": 1580}, {\"dt\": \"2021-10-08\", \"activity_level\": 2, \"userid\": 1592}, {\"dt\": \"2021-10-08\", \"activity_level\": 3, \"userid\": 1518}, {\"dt\": \"2021-10-08\", \"activity_level\": 4, \"userid\": 1533}, {\"dt\": \"2021-10-08\", \"activity_level\": 5, \"userid\": 1615}, {\"dt\": \"2021-10-08\", \"activity_level\": 6, \"userid\": 1438}, {\"dt\": \"2021-10-08\", \"activity_level\": 7, \"userid\": 1595}, {\"dt\": \"2021-10-08\", \"activity_level\": 8, \"userid\": 1518}, {\"dt\": \"2021-10-08\", \"activity_level\": 9, \"userid\": 1621}, {\"dt\": \"2021-10-08\", \"activity_level\": 10, \"userid\": 1518}, {\"dt\": \"2021-10-08\", \"activity_level\": 11, \"userid\": 1583}, {\"dt\": \"2021-10-08\", \"activity_level\": 12, \"userid\": 1581}, {\"dt\": \"2021-10-08\", \"activity_level\": 13, \"userid\": 1631}, {\"dt\": \"2021-10-08\", \"activity_level\": 14, \"userid\": 1610}, {\"dt\": \"2021-10-08\", \"activity_level\": 15, \"userid\": 1529}, {\"dt\": \"2021-10-08\", \"activity_level\": 16, \"userid\": 1650}, {\"dt\": \"2021-10-08\", \"activity_level\": 17, \"userid\": 1516}, {\"dt\": \"2021-10-08\", \"activity_level\": 18, \"userid\": 1649}, {\"dt\": \"2021-10-08\", \"activity_level\": 19, \"userid\": 1510}, {\"dt\": \"2021-10-08\", \"activity_level\": 20, \"userid\": 813}, {\"dt\": \"2021-10-09\", \"activity_level\": 1, \"userid\": 1556}, {\"dt\": \"2021-10-09\", \"activity_level\": 2, \"userid\": 1572}, {\"dt\": \"2021-10-09\", \"activity_level\": 3, \"userid\": 1580}, {\"dt\": \"2021-10-09\", \"activity_level\": 4, \"userid\": 1562}, {\"dt\": \"2021-10-09\", \"activity_level\": 5, \"userid\": 1676}, {\"dt\": \"2021-10-09\", \"activity_level\": 6, \"userid\": 1639}, {\"dt\": \"2021-10-09\", \"activity_level\": 7, \"userid\": 1544}, {\"dt\": \"2021-10-09\", \"activity_level\": 8, \"userid\": 1586}, {\"dt\": \"2021-10-09\", \"activity_level\": 9, \"userid\": 1595}, {\"dt\": \"2021-10-09\", \"activity_level\": 10, \"userid\": 1563}, {\"dt\": \"2021-10-09\", \"activity_level\": 11, \"userid\": 1573}, {\"dt\": \"2021-10-09\", \"activity_level\": 12, \"userid\": 1497}, {\"dt\": \"2021-10-09\", \"activity_level\": 13, \"userid\": 1623}, {\"dt\": \"2021-10-09\", \"activity_level\": 14, \"userid\": 1567}, {\"dt\": \"2021-10-09\", \"activity_level\": 15, \"userid\": 1566}, {\"dt\": \"2021-10-09\", \"activity_level\": 16, \"userid\": 1607}, {\"dt\": \"2021-10-09\", \"activity_level\": 17, \"userid\": 1565}, {\"dt\": \"2021-10-09\", \"activity_level\": 18, \"userid\": 1641}, {\"dt\": \"2021-10-09\", \"activity_level\": 19, \"userid\": 1577}, {\"dt\": \"2021-10-09\", \"activity_level\": 20, \"userid\": 813}, {\"dt\": \"2021-10-10\", \"activity_level\": 1, \"userid\": 1605}, {\"dt\": \"2021-10-10\", \"activity_level\": 2, \"userid\": 1485}, {\"dt\": \"2021-10-10\", \"activity_level\": 3, \"userid\": 1586}, {\"dt\": \"2021-10-10\", \"activity_level\": 4, \"userid\": 1534}, {\"dt\": \"2021-10-10\", \"activity_level\": 5, \"userid\": 1603}, {\"dt\": \"2021-10-10\", \"activity_level\": 6, \"userid\": 1576}, {\"dt\": \"2021-10-10\", \"activity_level\": 7, \"userid\": 1554}, {\"dt\": \"2021-10-10\", \"activity_level\": 8, \"userid\": 1527}, {\"dt\": \"2021-10-10\", \"activity_level\": 9, \"userid\": 1535}, {\"dt\": \"2021-10-10\", \"activity_level\": 10, \"userid\": 1548}, {\"dt\": \"2021-10-10\", \"activity_level\": 11, \"userid\": 1635}, {\"dt\": \"2021-10-10\", \"activity_level\": 12, \"userid\": 1558}, {\"dt\": \"2021-10-10\", \"activity_level\": 13, \"userid\": 1584}, {\"dt\": \"2021-10-10\", \"activity_level\": 14, \"userid\": 1544}, {\"dt\": \"2021-10-10\", \"activity_level\": 15, \"userid\": 1578}, {\"dt\": \"2021-10-10\", \"activity_level\": 16, \"userid\": 1627}, {\"dt\": \"2021-10-10\", \"activity_level\": 17, \"userid\": 1579}, {\"dt\": \"2021-10-10\", \"activity_level\": 18, \"userid\": 1568}, {\"dt\": \"2021-10-10\", \"activity_level\": 19, \"userid\": 1555}, {\"dt\": \"2021-10-10\", \"activity_level\": 20, \"userid\": 800}, {\"dt\": \"2021-10-11\", \"activity_level\": 1, \"userid\": 1582}, {\"dt\": \"2021-10-11\", \"activity_level\": 2, \"userid\": 1564}, {\"dt\": \"2021-10-11\", \"activity_level\": 3, \"userid\": 1529}, {\"dt\": \"2021-10-11\", \"activity_level\": 4, \"userid\": 1568}, {\"dt\": \"2021-10-11\", \"activity_level\": 5, \"userid\": 1686}, {\"dt\": \"2021-10-11\", \"activity_level\": 6, \"userid\": 1559}, {\"dt\": \"2021-10-11\", \"activity_level\": 7, \"userid\": 1588}, {\"dt\": \"2021-10-11\", \"activity_level\": 8, \"userid\": 1544}, {\"dt\": \"2021-10-11\", \"activity_level\": 9, \"userid\": 1535}, {\"dt\": \"2021-10-11\", \"activity_level\": 10, \"userid\": 1588}, {\"dt\": \"2021-10-11\", \"activity_level\": 11, \"userid\": 1533}, {\"dt\": \"2021-10-11\", \"activity_level\": 12, \"userid\": 1550}, {\"dt\": \"2021-10-11\", \"activity_level\": 13, \"userid\": 1526}, {\"dt\": \"2021-10-11\", \"activity_level\": 14, \"userid\": 1630}, {\"dt\": \"2021-10-11\", \"activity_level\": 15, \"userid\": 1543}, {\"dt\": \"2021-10-11\", \"activity_level\": 16, \"userid\": 1620}, {\"dt\": \"2021-10-11\", \"activity_level\": 17, \"userid\": 1531}, {\"dt\": \"2021-10-11\", \"activity_level\": 18, \"userid\": 1504}, {\"dt\": \"2021-10-11\", \"activity_level\": 19, \"userid\": 1571}, {\"dt\": \"2021-10-11\", \"activity_level\": 20, \"userid\": 738}, {\"dt\": \"2021-10-12\", \"activity_level\": 1, \"userid\": 1546}, {\"dt\": \"2021-10-12\", \"activity_level\": 2, \"userid\": 1628}, {\"dt\": \"2021-10-12\", \"activity_level\": 3, \"userid\": 1555}, {\"dt\": \"2021-10-12\", \"activity_level\": 4, \"userid\": 1612}, {\"dt\": \"2021-10-12\", \"activity_level\": 5, \"userid\": 1614}, {\"dt\": \"2021-10-12\", \"activity_level\": 6, \"userid\": 1528}, {\"dt\": \"2021-10-12\", \"activity_level\": 7, \"userid\": 1519}, {\"dt\": \"2021-10-12\", \"activity_level\": 8, \"userid\": 1513}, {\"dt\": \"2021-10-12\", \"activity_level\": 9, \"userid\": 1527}, {\"dt\": \"2021-10-12\", \"activity_level\": 10, \"userid\": 1634}, {\"dt\": \"2021-10-12\", \"activity_level\": 11, \"userid\": 1542}, {\"dt\": \"2021-10-12\", \"activity_level\": 12, \"userid\": 1628}, {\"dt\": \"2021-10-12\", \"activity_level\": 13, \"userid\": 1619}, {\"dt\": \"2021-10-12\", \"activity_level\": 14, \"userid\": 1606}, {\"dt\": \"2021-10-12\", \"activity_level\": 15, \"userid\": 1560}, {\"dt\": \"2021-10-12\", \"activity_level\": 16, \"userid\": 1630}, {\"dt\": \"2021-10-12\", \"activity_level\": 17, \"userid\": 1554}, {\"dt\": \"2021-10-12\", \"activity_level\": 18, \"userid\": 1535}, {\"dt\": \"2021-10-12\", \"activity_level\": 19, \"userid\": 1595}, {\"dt\": \"2021-10-12\", \"activity_level\": 20, \"userid\": 770}, {\"dt\": \"2021-10-13\", \"activity_level\": 1, \"userid\": 1591}, {\"dt\": \"2021-10-13\", \"activity_level\": 2, \"userid\": 1487}, {\"dt\": \"2021-10-13\", \"activity_level\": 3, \"userid\": 1536}, {\"dt\": \"2021-10-13\", \"activity_level\": 4, \"userid\": 1602}, {\"dt\": \"2021-10-13\", \"activity_level\": 5, \"userid\": 1675}, {\"dt\": \"2021-10-13\", \"activity_level\": 6, \"userid\": 1590}, {\"dt\": \"2021-10-13\", \"activity_level\": 7, \"userid\": 1539}, {\"dt\": \"2021-10-13\", \"activity_level\": 8, \"userid\": 1529}, {\"dt\": \"2021-10-13\", \"activity_level\": 9, \"userid\": 1603}, {\"dt\": \"2021-10-13\", \"activity_level\": 10, \"userid\": 1622}, {\"dt\": \"2021-10-13\", \"activity_level\": 11, \"userid\": 1574}, {\"dt\": \"2021-10-13\", \"activity_level\": 12, \"userid\": 1600}, {\"dt\": \"2021-10-13\", \"activity_level\": 13, \"userid\": 1572}, {\"dt\": \"2021-10-13\", \"activity_level\": 14, \"userid\": 1573}, {\"dt\": \"2021-10-13\", \"activity_level\": 15, \"userid\": 1612}, {\"dt\": \"2021-10-13\", \"activity_level\": 16, \"userid\": 1521}, {\"dt\": \"2021-10-13\", \"activity_level\": 17, \"userid\": 1553}, {\"dt\": \"2021-10-13\", \"activity_level\": 18, \"userid\": 1556}, {\"dt\": \"2021-10-13\", \"activity_level\": 19, \"userid\": 1620}, {\"dt\": \"2021-10-13\", \"activity_level\": 20, \"userid\": 806}, {\"dt\": \"2021-10-14\", \"activity_level\": 1, \"userid\": 1542}, {\"dt\": \"2021-10-14\", \"activity_level\": 2, \"userid\": 1665}, {\"dt\": \"2021-10-14\", \"activity_level\": 3, \"userid\": 1563}, {\"dt\": \"2021-10-14\", \"activity_level\": 4, \"userid\": 1550}, {\"dt\": \"2021-10-14\", \"activity_level\": 5, \"userid\": 1604}, {\"dt\": \"2021-10-14\", \"activity_level\": 6, \"userid\": 1644}, {\"dt\": \"2021-10-14\", \"activity_level\": 7, \"userid\": 1622}, {\"dt\": \"2021-10-14\", \"activity_level\": 8, \"userid\": 1641}, {\"dt\": \"2021-10-14\", \"activity_level\": 9, \"userid\": 1578}, {\"dt\": \"2021-10-14\", \"activity_level\": 10, \"userid\": 1625}, {\"dt\": \"2021-10-14\", \"activity_level\": 11, \"userid\": 1544}, {\"dt\": \"2021-10-14\", \"activity_level\": 12, \"userid\": 1525}, {\"dt\": \"2021-10-14\", \"activity_level\": 13, \"userid\": 1493}, {\"dt\": \"2021-10-14\", \"activity_level\": 14, \"userid\": 1627}, {\"dt\": \"2021-10-14\", \"activity_level\": 15, \"userid\": 1590}, {\"dt\": \"2021-10-14\", \"activity_level\": 16, \"userid\": 1537}, {\"dt\": \"2021-10-14\", \"activity_level\": 17, \"userid\": 1514}, {\"dt\": \"2021-10-14\", \"activity_level\": 18, \"userid\": 1548}, {\"dt\": \"2021-10-14\", \"activity_level\": 19, \"userid\": 1548}, {\"dt\": \"2021-10-14\", \"activity_level\": 20, \"userid\": 756}, {\"dt\": \"2021-10-15\", \"activity_level\": 1, \"userid\": 1528}, {\"dt\": \"2021-10-15\", \"activity_level\": 2, \"userid\": 1586}, {\"dt\": \"2021-10-15\", \"activity_level\": 3, \"userid\": 1620}, {\"dt\": \"2021-10-15\", \"activity_level\": 4, \"userid\": 1556}, {\"dt\": \"2021-10-15\", \"activity_level\": 5, \"userid\": 1549}, {\"dt\": \"2021-10-15\", \"activity_level\": 6, \"userid\": 1567}, {\"dt\": \"2021-10-15\", \"activity_level\": 7, \"userid\": 1553}, {\"dt\": \"2021-10-15\", \"activity_level\": 8, \"userid\": 1601}, {\"dt\": \"2021-10-15\", \"activity_level\": 9, \"userid\": 1612}, {\"dt\": \"2021-10-15\", \"activity_level\": 10, \"userid\": 1495}, {\"dt\": \"2021-10-15\", \"activity_level\": 11, \"userid\": 1612}, {\"dt\": \"2021-10-15\", \"activity_level\": 12, \"userid\": 1493}, {\"dt\": \"2021-10-15\", \"activity_level\": 13, \"userid\": 1574}, {\"dt\": \"2021-10-15\", \"activity_level\": 14, \"userid\": 1599}, {\"dt\": \"2021-10-15\", \"activity_level\": 15, \"userid\": 1622}, {\"dt\": \"2021-10-15\", \"activity_level\": 16, \"userid\": 1521}, {\"dt\": \"2021-10-15\", \"activity_level\": 17, \"userid\": 1547}, {\"dt\": \"2021-10-15\", \"activity_level\": 18, \"userid\": 1624}, {\"dt\": \"2021-10-15\", \"activity_level\": 19, \"userid\": 1583}, {\"dt\": \"2021-10-15\", \"activity_level\": 20, \"userid\": 795}, {\"dt\": \"2021-10-16\", \"activity_level\": 1, \"userid\": 1585}, {\"dt\": \"2021-10-16\", \"activity_level\": 2, \"userid\": 1609}, {\"dt\": \"2021-10-16\", \"activity_level\": 3, \"userid\": 1575}, {\"dt\": \"2021-10-16\", \"activity_level\": 4, \"userid\": 1577}, {\"dt\": \"2021-10-16\", \"activity_level\": 5, \"userid\": 1529}, {\"dt\": \"2021-10-16\", \"activity_level\": 6, \"userid\": 1573}, {\"dt\": \"2021-10-16\", \"activity_level\": 7, \"userid\": 1514}, {\"dt\": \"2021-10-16\", \"activity_level\": 8, \"userid\": 1572}, {\"dt\": \"2021-10-16\", \"activity_level\": 9, \"userid\": 1599}, {\"dt\": \"2021-10-16\", \"activity_level\": 10, \"userid\": 1590}, {\"dt\": \"2021-10-16\", \"activity_level\": 11, \"userid\": 1613}, {\"dt\": \"2021-10-16\", \"activity_level\": 12, \"userid\": 1616}, {\"dt\": \"2021-10-16\", \"activity_level\": 13, \"userid\": 1550}, {\"dt\": \"2021-10-16\", \"activity_level\": 14, \"userid\": 1560}, {\"dt\": \"2021-10-16\", \"activity_level\": 15, \"userid\": 1562}, {\"dt\": \"2021-10-16\", \"activity_level\": 16, \"userid\": 1565}, {\"dt\": \"2021-10-16\", \"activity_level\": 17, \"userid\": 1537}, {\"dt\": \"2021-10-16\", \"activity_level\": 18, \"userid\": 1578}, {\"dt\": \"2021-10-16\", \"activity_level\": 19, \"userid\": 1614}, {\"dt\": \"2021-10-16\", \"activity_level\": 20, \"userid\": 790}, {\"dt\": \"2021-10-17\", \"activity_level\": 1, \"userid\": 1572}, {\"dt\": \"2021-10-17\", \"activity_level\": 2, \"userid\": 1639}, {\"dt\": \"2021-10-17\", \"activity_level\": 3, \"userid\": 1570}, {\"dt\": \"2021-10-17\", \"activity_level\": 4, \"userid\": 1525}, {\"dt\": \"2021-10-17\", \"activity_level\": 5, \"userid\": 1626}, {\"dt\": \"2021-10-17\", \"activity_level\": 6, \"userid\": 1565}, {\"dt\": \"2021-10-17\", \"activity_level\": 7, \"userid\": 1603}, {\"dt\": \"2021-10-17\", \"activity_level\": 8, \"userid\": 1550}, {\"dt\": \"2021-10-17\", \"activity_level\": 9, \"userid\": 1593}, {\"dt\": \"2021-10-17\", \"activity_level\": 10, \"userid\": 1581}, {\"dt\": \"2021-10-17\", \"activity_level\": 11, \"userid\": 1557}, {\"dt\": \"2021-10-17\", \"activity_level\": 12, \"userid\": 1528}, {\"dt\": \"2021-10-17\", \"activity_level\": 13, \"userid\": 1530}, {\"dt\": \"2021-10-17\", \"activity_level\": 14, \"userid\": 1568}, {\"dt\": \"2021-10-17\", \"activity_level\": 15, \"userid\": 1548}, {\"dt\": \"2021-10-17\", \"activity_level\": 16, \"userid\": 1635}, {\"dt\": \"2021-10-17\", \"activity_level\": 17, \"userid\": 1572}, {\"dt\": \"2021-10-17\", \"activity_level\": 18, \"userid\": 1606}, {\"dt\": \"2021-10-17\", \"activity_level\": 19, \"userid\": 1535}, {\"dt\": \"2021-10-17\", \"activity_level\": 20, \"userid\": 838}, {\"dt\": \"2021-10-18\", \"activity_level\": 1, \"userid\": 1573}, {\"dt\": \"2021-10-18\", \"activity_level\": 2, \"userid\": 1643}, {\"dt\": \"2021-10-18\", \"activity_level\": 3, \"userid\": 1596}, {\"dt\": \"2021-10-18\", \"activity_level\": 4, \"userid\": 1565}, {\"dt\": \"2021-10-18\", \"activity_level\": 5, \"userid\": 1580}, {\"dt\": \"2021-10-18\", \"activity_level\": 6, \"userid\": 1584}, {\"dt\": \"2021-10-18\", \"activity_level\": 7, \"userid\": 1566}, {\"dt\": \"2021-10-18\", \"activity_level\": 8, \"userid\": 1594}, {\"dt\": \"2021-10-18\", \"activity_level\": 9, \"userid\": 1589}, {\"dt\": \"2021-10-18\", \"activity_level\": 10, \"userid\": 1542}, {\"dt\": \"2021-10-18\", \"activity_level\": 11, \"userid\": 1608}, {\"dt\": \"2021-10-18\", \"activity_level\": 12, \"userid\": 1559}, {\"dt\": \"2021-10-18\", \"activity_level\": 13, \"userid\": 1508}, {\"dt\": \"2021-10-18\", \"activity_level\": 14, \"userid\": 1515}, {\"dt\": \"2021-10-18\", \"activity_level\": 15, \"userid\": 1526}, {\"dt\": \"2021-10-18\", \"activity_level\": 16, \"userid\": 1536}, {\"dt\": \"2021-10-18\", \"activity_level\": 17, \"userid\": 1613}, {\"dt\": \"2021-10-18\", \"activity_level\": 18, \"userid\": 1626}, {\"dt\": \"2021-10-18\", \"activity_level\": 19, \"userid\": 1591}, {\"dt\": \"2021-10-18\", \"activity_level\": 20, \"userid\": 780}, {\"dt\": \"2021-10-19\", \"activity_level\": 1, \"userid\": 1620}, {\"dt\": \"2021-10-19\", \"activity_level\": 2, \"userid\": 1561}, {\"dt\": \"2021-10-19\", \"activity_level\": 3, \"userid\": 1579}, {\"dt\": \"2021-10-19\", \"activity_level\": 4, \"userid\": 1630}, {\"dt\": \"2021-10-19\", \"activity_level\": 5, \"userid\": 1571}, {\"dt\": \"2021-10-19\", \"activity_level\": 6, \"userid\": 1569}, {\"dt\": \"2021-10-19\", \"activity_level\": 7, \"userid\": 1515}, {\"dt\": \"2021-10-19\", \"activity_level\": 8, \"userid\": 1588}, {\"dt\": \"2021-10-19\", \"activity_level\": 9, \"userid\": 1547}, {\"dt\": \"2021-10-19\", \"activity_level\": 10, \"userid\": 1606}, {\"dt\": \"2021-10-19\", \"activity_level\": 11, \"userid\": 1594}, {\"dt\": \"2021-10-19\", \"activity_level\": 12, \"userid\": 1553}, {\"dt\": \"2021-10-19\", \"activity_level\": 13, \"userid\": 1509}, {\"dt\": \"2021-10-19\", \"activity_level\": 14, \"userid\": 1550}, {\"dt\": \"2021-10-19\", \"activity_level\": 15, \"userid\": 1564}, {\"dt\": \"2021-10-19\", \"activity_level\": 16, \"userid\": 1532}, {\"dt\": \"2021-10-19\", \"activity_level\": 17, \"userid\": 1541}, {\"dt\": \"2021-10-19\", \"activity_level\": 18, \"userid\": 1606}, {\"dt\": \"2021-10-19\", \"activity_level\": 19, \"userid\": 1532}, {\"dt\": \"2021-10-19\", \"activity_level\": 20, \"userid\": 820}, {\"dt\": \"2021-10-20\", \"activity_level\": 1, \"userid\": 1545}, {\"dt\": \"2021-10-20\", \"activity_level\": 2, \"userid\": 1650}, {\"dt\": \"2021-10-20\", \"activity_level\": 3, \"userid\": 1644}, {\"dt\": \"2021-10-20\", \"activity_level\": 4, \"userid\": 1572}, {\"dt\": \"2021-10-20\", \"activity_level\": 5, \"userid\": 1597}, {\"dt\": \"2021-10-20\", \"activity_level\": 6, \"userid\": 1570}, {\"dt\": \"2021-10-20\", \"activity_level\": 7, \"userid\": 1578}, {\"dt\": \"2021-10-20\", \"activity_level\": 8, \"userid\": 1482}, {\"dt\": \"2021-10-20\", \"activity_level\": 9, \"userid\": 1629}, {\"dt\": \"2021-10-20\", \"activity_level\": 10, \"userid\": 1531}, {\"dt\": \"2021-10-20\", \"activity_level\": 11, \"userid\": 1576}, {\"dt\": \"2021-10-20\", \"activity_level\": 12, \"userid\": 1615}, {\"dt\": \"2021-10-20\", \"activity_level\": 13, \"userid\": 1608}, {\"dt\": \"2021-10-20\", \"activity_level\": 14, \"userid\": 1535}, {\"dt\": \"2021-10-20\", \"activity_level\": 15, \"userid\": 1573}, {\"dt\": \"2021-10-20\", \"activity_level\": 16, \"userid\": 1577}, {\"dt\": \"2021-10-20\", \"activity_level\": 17, \"userid\": 1576}, {\"dt\": \"2021-10-20\", \"activity_level\": 18, \"userid\": 1596}, {\"dt\": \"2021-10-20\", \"activity_level\": 19, \"userid\": 1567}, {\"dt\": \"2021-10-20\", \"activity_level\": 20, \"userid\": 774}, {\"dt\": \"2021-10-21\", \"activity_level\": 1, \"userid\": 1564}, {\"dt\": \"2021-10-21\", \"activity_level\": 2, \"userid\": 1548}, {\"dt\": \"2021-10-21\", \"activity_level\": 3, \"userid\": 1588}, {\"dt\": \"2021-10-21\", \"activity_level\": 4, \"userid\": 1552}, {\"dt\": \"2021-10-21\", \"activity_level\": 5, \"userid\": 1510}, {\"dt\": \"2021-10-21\", \"activity_level\": 6, \"userid\": 1582}, {\"dt\": \"2021-10-21\", \"activity_level\": 7, \"userid\": 1530}, {\"dt\": \"2021-10-21\", \"activity_level\": 8, \"userid\": 1581}, {\"dt\": \"2021-10-21\", \"activity_level\": 9, \"userid\": 1599}, {\"dt\": \"2021-10-21\", \"activity_level\": 10, \"userid\": 1627}, {\"dt\": \"2021-10-21\", \"activity_level\": 11, \"userid\": 1659}, {\"dt\": \"2021-10-21\", \"activity_level\": 12, \"userid\": 1602}, {\"dt\": \"2021-10-21\", \"activity_level\": 13, \"userid\": 1569}, {\"dt\": \"2021-10-21\", \"activity_level\": 14, \"userid\": 1577}, {\"dt\": \"2021-10-21\", \"activity_level\": 15, \"userid\": 1605}, {\"dt\": \"2021-10-21\", \"activity_level\": 16, \"userid\": 1549}, {\"dt\": \"2021-10-21\", \"activity_level\": 17, \"userid\": 1552}, {\"dt\": \"2021-10-21\", \"activity_level\": 18, \"userid\": 1551}, {\"dt\": \"2021-10-21\", \"activity_level\": 19, \"userid\": 1585}, {\"dt\": \"2021-10-21\", \"activity_level\": 20, \"userid\": 775}, {\"dt\": \"2021-10-22\", \"activity_level\": 1, \"userid\": 1609}, {\"dt\": \"2021-10-22\", \"activity_level\": 2, \"userid\": 1523}, {\"dt\": \"2021-10-22\", \"activity_level\": 3, \"userid\": 1572}, {\"dt\": \"2021-10-22\", \"activity_level\": 4, \"userid\": 1526}, {\"dt\": \"2021-10-22\", \"activity_level\": 5, \"userid\": 1584}, {\"dt\": \"2021-10-22\", \"activity_level\": 6, \"userid\": 1532}, {\"dt\": \"2021-10-22\", \"activity_level\": 7, \"userid\": 1583}, {\"dt\": \"2021-10-22\", \"activity_level\": 8, \"userid\": 1559}, {\"dt\": \"2021-10-22\", \"activity_level\": 9, \"userid\": 1559}, {\"dt\": \"2021-10-22\", \"activity_level\": 10, \"userid\": 1572}, {\"dt\": \"2021-10-22\", \"activity_level\": 11, \"userid\": 1506}, {\"dt\": \"2021-10-22\", \"activity_level\": 12, \"userid\": 1519}, {\"dt\": \"2021-10-22\", \"activity_level\": 13, \"userid\": 1637}, {\"dt\": \"2021-10-22\", \"activity_level\": 14, \"userid\": 1549}, {\"dt\": \"2021-10-22\", \"activity_level\": 15, \"userid\": 1523}, {\"dt\": \"2021-10-22\", \"activity_level\": 16, \"userid\": 1601}, {\"dt\": \"2021-10-22\", \"activity_level\": 17, \"userid\": 1622}, {\"dt\": \"2021-10-22\", \"activity_level\": 18, \"userid\": 1567}, {\"dt\": \"2021-10-22\", \"activity_level\": 19, \"userid\": 1638}, {\"dt\": \"2021-10-22\", \"activity_level\": 20, \"userid\": 792}, {\"dt\": \"2021-10-23\", \"activity_level\": 1, \"userid\": 1567}, {\"dt\": \"2021-10-23\", \"activity_level\": 2, \"userid\": 1524}, {\"dt\": \"2021-10-23\", \"activity_level\": 3, \"userid\": 1572}, {\"dt\": \"2021-10-23\", \"activity_level\": 4, \"userid\": 1567}, {\"dt\": \"2021-10-23\", \"activity_level\": 5, \"userid\": 1560}, {\"dt\": \"2021-10-23\", \"activity_level\": 6, \"userid\": 1558}, {\"dt\": \"2021-10-23\", \"activity_level\": 7, \"userid\": 1552}, {\"dt\": \"2021-10-23\", \"activity_level\": 8, \"userid\": 1535}, {\"dt\": \"2021-10-23\", \"activity_level\": 9, \"userid\": 1617}, {\"dt\": \"2021-10-23\", \"activity_level\": 10, \"userid\": 1605}, {\"dt\": \"2021-10-23\", \"activity_level\": 11, \"userid\": 1526}, {\"dt\": \"2021-10-23\", \"activity_level\": 12, \"userid\": 1612}, {\"dt\": \"2021-10-23\", \"activity_level\": 13, \"userid\": 1544}, {\"dt\": \"2021-10-23\", \"activity_level\": 14, \"userid\": 1631}, {\"dt\": \"2021-10-23\", \"activity_level\": 15, \"userid\": 1561}, {\"dt\": \"2021-10-23\", \"activity_level\": 16, \"userid\": 1597}, {\"dt\": \"2021-10-23\", \"activity_level\": 17, \"userid\": 1562}, {\"dt\": \"2021-10-23\", \"activity_level\": 18, \"userid\": 1616}, {\"dt\": \"2021-10-23\", \"activity_level\": 19, \"userid\": 1548}, {\"dt\": \"2021-10-23\", \"activity_level\": 20, \"userid\": 791}, {\"dt\": \"2021-10-24\", \"activity_level\": 1, \"userid\": 1572}, {\"dt\": \"2021-10-24\", \"activity_level\": 2, \"userid\": 1632}, {\"dt\": \"2021-10-24\", \"activity_level\": 3, \"userid\": 1586}, {\"dt\": \"2021-10-24\", \"activity_level\": 4, \"userid\": 1524}, {\"dt\": \"2021-10-24\", \"activity_level\": 5, \"userid\": 1616}, {\"dt\": \"2021-10-24\", \"activity_level\": 6, \"userid\": 1519}, {\"dt\": \"2021-10-24\", \"activity_level\": 7, \"userid\": 1554}, {\"dt\": \"2021-10-24\", \"activity_level\": 8, \"userid\": 1562}, {\"dt\": \"2021-10-24\", \"activity_level\": 9, \"userid\": 1550}, {\"dt\": \"2021-10-24\", \"activity_level\": 10, \"userid\": 1559}, {\"dt\": \"2021-10-24\", \"activity_level\": 11, \"userid\": 1657}, {\"dt\": \"2021-10-24\", \"activity_level\": 12, \"userid\": 1638}, {\"dt\": \"2021-10-24\", \"activity_level\": 13, \"userid\": 1581}, {\"dt\": \"2021-10-24\", \"activity_level\": 14, \"userid\": 1576}, {\"dt\": \"2021-10-24\", \"activity_level\": 15, \"userid\": 1564}, {\"dt\": \"2021-10-24\", \"activity_level\": 16, \"userid\": 1651}, {\"dt\": \"2021-10-24\", \"activity_level\": 17, \"userid\": 1560}, {\"dt\": \"2021-10-24\", \"activity_level\": 18, \"userid\": 1564}, {\"dt\": \"2021-10-24\", \"activity_level\": 19, \"userid\": 1572}, {\"dt\": \"2021-10-24\", \"activity_level\": 20, \"userid\": 778}, {\"dt\": \"2021-10-25\", \"activity_level\": 1, \"userid\": 1544}, {\"dt\": \"2021-10-25\", \"activity_level\": 2, \"userid\": 1593}, {\"dt\": \"2021-10-25\", \"activity_level\": 3, \"userid\": 1601}, {\"dt\": \"2021-10-25\", \"activity_level\": 4, \"userid\": 1564}, {\"dt\": \"2021-10-25\", \"activity_level\": 5, \"userid\": 1520}, {\"dt\": \"2021-10-25\", \"activity_level\": 6, \"userid\": 1531}, {\"dt\": \"2021-10-25\", \"activity_level\": 7, \"userid\": 1506}, {\"dt\": \"2021-10-25\", \"activity_level\": 8, \"userid\": 1583}, {\"dt\": \"2021-10-25\", \"activity_level\": 9, \"userid\": 1540}, {\"dt\": \"2021-10-25\", \"activity_level\": 10, \"userid\": 1589}, {\"dt\": \"2021-10-25\", \"activity_level\": 11, \"userid\": 1537}, {\"dt\": \"2021-10-25\", \"activity_level\": 12, \"userid\": 1610}, {\"dt\": \"2021-10-25\", \"activity_level\": 13, \"userid\": 1561}, {\"dt\": \"2021-10-25\", \"activity_level\": 14, \"userid\": 1549}, {\"dt\": \"2021-10-25\", \"activity_level\": 15, \"userid\": 1527}, {\"dt\": \"2021-10-25\", \"activity_level\": 16, \"userid\": 1561}, {\"dt\": \"2021-10-25\", \"activity_level\": 17, \"userid\": 1625}, {\"dt\": \"2021-10-25\", \"activity_level\": 18, \"userid\": 1600}, {\"dt\": \"2021-10-25\", \"activity_level\": 19, \"userid\": 1629}, {\"dt\": \"2021-10-25\", \"activity_level\": 20, \"userid\": 846}, {\"dt\": \"2021-10-26\", \"activity_level\": 1, \"userid\": 1554}, {\"dt\": \"2021-10-26\", \"activity_level\": 2, \"userid\": 1644}, {\"dt\": \"2021-10-26\", \"activity_level\": 3, \"userid\": 1543}, {\"dt\": \"2021-10-26\", \"activity_level\": 4, \"userid\": 1523}, {\"dt\": \"2021-10-26\", \"activity_level\": 5, \"userid\": 1607}, {\"dt\": \"2021-10-26\", \"activity_level\": 6, \"userid\": 1615}, {\"dt\": \"2021-10-26\", \"activity_level\": 7, \"userid\": 1575}, {\"dt\": \"2021-10-26\", \"activity_level\": 8, \"userid\": 1588}, {\"dt\": \"2021-10-26\", \"activity_level\": 9, \"userid\": 1534}, {\"dt\": \"2021-10-26\", \"activity_level\": 10, \"userid\": 1545}, {\"dt\": \"2021-10-26\", \"activity_level\": 11, \"userid\": 1584}, {\"dt\": \"2021-10-26\", \"activity_level\": 12, \"userid\": 1520}, {\"dt\": \"2021-10-26\", \"activity_level\": 13, \"userid\": 1564}, {\"dt\": \"2021-10-26\", \"activity_level\": 14, \"userid\": 1563}, {\"dt\": \"2021-10-26\", \"activity_level\": 15, \"userid\": 1633}, {\"dt\": \"2021-10-26\", \"activity_level\": 16, \"userid\": 1603}, {\"dt\": \"2021-10-26\", \"activity_level\": 17, \"userid\": 1557}, {\"dt\": \"2021-10-26\", \"activity_level\": 18, \"userid\": 1592}, {\"dt\": \"2021-10-26\", \"activity_level\": 19, \"userid\": 1545}, {\"dt\": \"2021-10-26\", \"activity_level\": 20, \"userid\": 784}, {\"dt\": \"2021-10-27\", \"activity_level\": 1, \"userid\": 1560}, {\"dt\": \"2021-10-27\", \"activity_level\": 2, \"userid\": 1504}, {\"dt\": \"2021-10-27\", \"activity_level\": 3, \"userid\": 1561}, {\"dt\": \"2021-10-27\", \"activity_level\": 4, \"userid\": 1629}, {\"dt\": \"2021-10-27\", \"activity_level\": 5, \"userid\": 1588}, {\"dt\": \"2021-10-27\", \"activity_level\": 6, \"userid\": 1644}, {\"dt\": \"2021-10-27\", \"activity_level\": 7, \"userid\": 1527}, {\"dt\": \"2021-10-27\", \"activity_level\": 8, \"userid\": 1569}, {\"dt\": \"2021-10-27\", \"activity_level\": 9, \"userid\": 1452}, {\"dt\": \"2021-10-27\", \"activity_level\": 10, \"userid\": 1576}, {\"dt\": \"2021-10-27\", \"activity_level\": 11, \"userid\": 1628}, {\"dt\": \"2021-10-27\", \"activity_level\": 12, \"userid\": 1547}, {\"dt\": \"2021-10-27\", \"activity_level\": 13, \"userid\": 1532}, {\"dt\": \"2021-10-27\", \"activity_level\": 14, \"userid\": 1593}, {\"dt\": \"2021-10-27\", \"activity_level\": 15, \"userid\": 1513}, {\"dt\": \"2021-10-27\", \"activity_level\": 16, \"userid\": 1575}, {\"dt\": \"2021-10-27\", \"activity_level\": 17, \"userid\": 1652}, {\"dt\": \"2021-10-27\", \"activity_level\": 18, \"userid\": 1651}, {\"dt\": \"2021-10-27\", \"activity_level\": 19, \"userid\": 1550}, {\"dt\": \"2021-10-27\", \"activity_level\": 20, \"userid\": 810}, {\"dt\": \"2021-10-28\", \"activity_level\": 1, \"userid\": 1608}, {\"dt\": \"2021-10-28\", \"activity_level\": 2, \"userid\": 1635}, {\"dt\": \"2021-10-28\", \"activity_level\": 3, \"userid\": 1663}, {\"dt\": \"2021-10-28\", \"activity_level\": 4, \"userid\": 1558}, {\"dt\": \"2021-10-28\", \"activity_level\": 5, \"userid\": 1531}, {\"dt\": \"2021-10-28\", \"activity_level\": 6, \"userid\": 1626}, {\"dt\": \"2021-10-28\", \"activity_level\": 7, \"userid\": 1615}, {\"dt\": \"2021-10-28\", \"activity_level\": 8, \"userid\": 1607}, {\"dt\": \"2021-10-28\", \"activity_level\": 9, \"userid\": 1572}, {\"dt\": \"2021-10-28\", \"activity_level\": 10, \"userid\": 1563}, {\"dt\": \"2021-10-28\", \"activity_level\": 11, \"userid\": 1584}, {\"dt\": \"2021-10-28\", \"activity_level\": 12, \"userid\": 1518}, {\"dt\": \"2021-10-28\", \"activity_level\": 13, \"userid\": 1597}, {\"dt\": \"2021-10-28\", \"activity_level\": 14, \"userid\": 1540}, {\"dt\": \"2021-10-28\", \"activity_level\": 15, \"userid\": 1582}, {\"dt\": \"2021-10-28\", \"activity_level\": 16, \"userid\": 1593}, {\"dt\": \"2021-10-28\", \"activity_level\": 17, \"userid\": 1506}, {\"dt\": \"2021-10-28\", \"activity_level\": 18, \"userid\": 1506}, {\"dt\": \"2021-10-28\", \"activity_level\": 19, \"userid\": 1530}, {\"dt\": \"2021-10-28\", \"activity_level\": 20, \"userid\": 800}, {\"dt\": \"2021-10-29\", \"activity_level\": 1, \"userid\": 1547}, {\"dt\": \"2021-10-29\", \"activity_level\": 2, \"userid\": 1532}, {\"dt\": \"2021-10-29\", \"activity_level\": 3, \"userid\": 1545}, {\"dt\": \"2021-10-29\", \"activity_level\": 4, \"userid\": 1632}, {\"dt\": \"2021-10-29\", \"activity_level\": 5, \"userid\": 1552}, {\"dt\": \"2021-10-29\", \"activity_level\": 6, \"userid\": 1656}, {\"dt\": \"2021-10-29\", \"activity_level\": 7, \"userid\": 1531}, {\"dt\": \"2021-10-29\", \"activity_level\": 8, \"userid\": 1534}, {\"dt\": \"2021-10-29\", \"activity_level\": 9, \"userid\": 1599}, {\"dt\": \"2021-10-29\", \"activity_level\": 10, \"userid\": 1612}, {\"dt\": \"2021-10-29\", \"activity_level\": 11, \"userid\": 1610}, {\"dt\": \"2021-10-29\", \"activity_level\": 12, \"userid\": 1655}, {\"dt\": \"2021-10-29\", \"activity_level\": 13, \"userid\": 1542}, {\"dt\": \"2021-10-29\", \"activity_level\": 14, \"userid\": 1481}, {\"dt\": \"2021-10-29\", \"activity_level\": 15, \"userid\": 1623}, {\"dt\": \"2021-10-29\", \"activity_level\": 16, \"userid\": 1563}, {\"dt\": \"2021-10-29\", \"activity_level\": 17, \"userid\": 1525}, {\"dt\": \"2021-10-29\", \"activity_level\": 18, \"userid\": 1572}, {\"dt\": \"2021-10-29\", \"activity_level\": 19, \"userid\": 1628}, {\"dt\": \"2021-10-29\", \"activity_level\": 20, \"userid\": 784}, {\"dt\": \"2021-10-30\", \"activity_level\": 1, \"userid\": 1588}, {\"dt\": \"2021-10-30\", \"activity_level\": 2, \"userid\": 1562}, {\"dt\": \"2021-10-30\", \"activity_level\": 3, \"userid\": 1560}, {\"dt\": \"2021-10-30\", \"activity_level\": 4, \"userid\": 1585}, {\"dt\": \"2021-10-30\", \"activity_level\": 5, \"userid\": 1592}, {\"dt\": \"2021-10-30\", \"activity_level\": 6, \"userid\": 1558}, {\"dt\": \"2021-10-30\", \"activity_level\": 7, \"userid\": 1581}, {\"dt\": \"2021-10-30\", \"activity_level\": 8, \"userid\": 1550}, {\"dt\": \"2021-10-30\", \"activity_level\": 9, \"userid\": 1568}, {\"dt\": \"2021-10-30\", \"activity_level\": 10, \"userid\": 1616}, {\"dt\": \"2021-10-30\", \"activity_level\": 11, \"userid\": 1570}, {\"dt\": \"2021-10-30\", \"activity_level\": 12, \"userid\": 1570}, {\"dt\": \"2021-10-30\", \"activity_level\": 13, \"userid\": 1595}, {\"dt\": \"2021-10-30\", \"activity_level\": 14, \"userid\": 1531}, {\"dt\": \"2021-10-30\", \"activity_level\": 15, \"userid\": 1600}, {\"dt\": \"2021-10-30\", \"activity_level\": 16, \"userid\": 1565}, {\"dt\": \"2021-10-30\", \"activity_level\": 17, \"userid\": 1501}, {\"dt\": \"2021-10-30\", \"activity_level\": 18, \"userid\": 1555}, {\"dt\": \"2021-10-30\", \"activity_level\": 19, \"userid\": 1601}, {\"dt\": \"2021-10-30\", \"activity_level\": 20, \"userid\": 780}, {\"dt\": \"2021-10-31\", \"activity_level\": 1, \"userid\": 1566}, {\"dt\": \"2021-10-31\", \"activity_level\": 2, \"userid\": 1585}, {\"dt\": \"2021-10-31\", \"activity_level\": 3, \"userid\": 1521}, {\"dt\": \"2021-10-31\", \"activity_level\": 4, \"userid\": 1538}, {\"dt\": \"2021-10-31\", \"activity_level\": 5, \"userid\": 1612}, {\"dt\": \"2021-10-31\", \"activity_level\": 6, \"userid\": 1595}, {\"dt\": \"2021-10-31\", \"activity_level\": 7, \"userid\": 1481}, {\"dt\": \"2021-10-31\", \"activity_level\": 8, \"userid\": 1508}, {\"dt\": \"2021-10-31\", \"activity_level\": 9, \"userid\": 1600}, {\"dt\": \"2021-10-31\", \"activity_level\": 10, \"userid\": 1646}, {\"dt\": \"2021-10-31\", \"activity_level\": 11, \"userid\": 1456}, {\"dt\": \"2021-10-31\", \"activity_level\": 12, \"userid\": 1653}, {\"dt\": \"2021-10-31\", \"activity_level\": 13, \"userid\": 1602}, {\"dt\": \"2021-10-31\", \"activity_level\": 14, \"userid\": 1630}, {\"dt\": \"2021-10-31\", \"activity_level\": 15, \"userid\": 1563}, {\"dt\": \"2021-10-31\", \"activity_level\": 16, \"userid\": 1499}, {\"dt\": \"2021-10-31\", \"activity_level\": 17, \"userid\": 1534}, {\"dt\": \"2021-10-31\", \"activity_level\": 18, \"userid\": 1531}, {\"dt\": \"2021-10-31\", \"activity_level\": 19, \"userid\": 1616}, {\"dt\": \"2021-10-31\", \"activity_level\": 20, \"userid\": 783}]}}, {\"mode\": \"vega-lite\"});\n",
       "</script>"
      ],
      "text/plain": [
       "alt.Chart(...)"
      ]
     },
     "execution_count": 18,
     "metadata": {},
     "output_type": "execute_result"
    }
   ],
   "source": [
    "# Let's plot the activity level on a line chart\n",
    "alt.Chart(activity).mark_line(size=1).encode(\n",
    "    alt.X('dt:T', axis=alt.Axis(title = 'date')),\n",
    "    alt.Y('userid:Q', axis=alt.Axis(title = 'number of users')),\n",
    "    tooltip=['activity_level'], \n",
    "    color='activity_level:N'\n",
    ").properties(\n",
    "    width=600,\n",
    "    height=400\n",
    ")"
   ]
  },
  {
   "cell_type": "markdown",
   "id": "6beb8a49",
   "metadata": {},
   "source": [
    "### Calculating Daily Active Users"
   ]
  },
  {
   "cell_type": "code",
   "execution_count": 19,
   "id": "700e4d4b",
   "metadata": {},
   "outputs": [
    {
     "data": {
      "text/html": [
       "<div>\n",
       "<style scoped>\n",
       "    .dataframe tbody tr th:only-of-type {\n",
       "        vertical-align: middle;\n",
       "    }\n",
       "\n",
       "    .dataframe tbody tr th {\n",
       "        vertical-align: top;\n",
       "    }\n",
       "\n",
       "    .dataframe thead th {\n",
       "        text-align: right;\n",
       "    }\n",
       "</style>\n",
       "<table border=\"1\" class=\"dataframe\">\n",
       "  <thead>\n",
       "    <tr style=\"text-align: right;\">\n",
       "      <th></th>\n",
       "      <th>userid</th>\n",
       "      <th>activity_level</th>\n",
       "    </tr>\n",
       "  </thead>\n",
       "  <tbody>\n",
       "    <tr>\n",
       "      <th>count</th>\n",
       "      <td>31.000000</td>\n",
       "      <td>31.000000</td>\n",
       "    </tr>\n",
       "    <tr>\n",
       "      <th>mean</th>\n",
       "      <td>30673.387097</td>\n",
       "      <td>30673.387097</td>\n",
       "    </tr>\n",
       "    <tr>\n",
       "      <th>std</th>\n",
       "      <td>90.968375</td>\n",
       "      <td>90.968375</td>\n",
       "    </tr>\n",
       "    <tr>\n",
       "      <th>min</th>\n",
       "      <td>30489.000000</td>\n",
       "      <td>30489.000000</td>\n",
       "    </tr>\n",
       "    <tr>\n",
       "      <th>25%</th>\n",
       "      <td>30608.000000</td>\n",
       "      <td>30608.000000</td>\n",
       "    </tr>\n",
       "    <tr>\n",
       "      <th>50%</th>\n",
       "      <td>30661.000000</td>\n",
       "      <td>30661.000000</td>\n",
       "    </tr>\n",
       "    <tr>\n",
       "      <th>75%</th>\n",
       "      <td>30728.500000</td>\n",
       "      <td>30728.500000</td>\n",
       "    </tr>\n",
       "    <tr>\n",
       "      <th>max</th>\n",
       "      <td>30902.000000</td>\n",
       "      <td>30902.000000</td>\n",
       "    </tr>\n",
       "  </tbody>\n",
       "</table>\n",
       "</div>"
      ],
      "text/plain": [
       "             userid  activity_level\n",
       "count     31.000000       31.000000\n",
       "mean   30673.387097    30673.387097\n",
       "std       90.968375       90.968375\n",
       "min    30489.000000    30489.000000\n",
       "25%    30608.000000    30608.000000\n",
       "50%    30661.000000    30661.000000\n",
       "75%    30728.500000    30728.500000\n",
       "max    30902.000000    30902.000000"
      ]
     },
     "execution_count": 19,
     "metadata": {},
     "output_type": "execute_result"
    }
   ],
   "source": [
    "activity = data.query('activity_level > 0').groupby(['dt']).count().reset_index()\n",
    "activity.describe()"
   ]
  },
  {
   "cell_type": "code",
   "execution_count": 20,
   "id": "50467352",
   "metadata": {},
   "outputs": [
    {
     "data": {
      "text/html": [
       "\n",
       "<style>\n",
       "  #altair-viz-6f64f0180c44460aade52b8cd8e9142b.vega-embed {\n",
       "    width: 100%;\n",
       "    display: flex;\n",
       "  }\n",
       "\n",
       "  #altair-viz-6f64f0180c44460aade52b8cd8e9142b.vega-embed details,\n",
       "  #altair-viz-6f64f0180c44460aade52b8cd8e9142b.vega-embed details summary {\n",
       "    position: relative;\n",
       "  }\n",
       "</style>\n",
       "<div id=\"altair-viz-6f64f0180c44460aade52b8cd8e9142b\"></div>\n",
       "<script type=\"text/javascript\">\n",
       "  var VEGA_DEBUG = (typeof VEGA_DEBUG == \"undefined\") ? {} : VEGA_DEBUG;\n",
       "  (function(spec, embedOpt){\n",
       "    let outputDiv = document.currentScript.previousElementSibling;\n",
       "    if (outputDiv.id !== \"altair-viz-6f64f0180c44460aade52b8cd8e9142b\") {\n",
       "      outputDiv = document.getElementById(\"altair-viz-6f64f0180c44460aade52b8cd8e9142b\");\n",
       "    }\n",
       "    const paths = {\n",
       "      \"vega\": \"https://cdn.jsdelivr.net/npm/vega@5?noext\",\n",
       "      \"vega-lib\": \"https://cdn.jsdelivr.net/npm/vega-lib?noext\",\n",
       "      \"vega-lite\": \"https://cdn.jsdelivr.net/npm/vega-lite@5.16.3?noext\",\n",
       "      \"vega-embed\": \"https://cdn.jsdelivr.net/npm/vega-embed@6?noext\",\n",
       "    };\n",
       "\n",
       "    function maybeLoadScript(lib, version) {\n",
       "      var key = `${lib.replace(\"-\", \"\")}_version`;\n",
       "      return (VEGA_DEBUG[key] == version) ?\n",
       "        Promise.resolve(paths[lib]) :\n",
       "        new Promise(function(resolve, reject) {\n",
       "          var s = document.createElement('script');\n",
       "          document.getElementsByTagName(\"head\")[0].appendChild(s);\n",
       "          s.async = true;\n",
       "          s.onload = () => {\n",
       "            VEGA_DEBUG[key] = version;\n",
       "            return resolve(paths[lib]);\n",
       "          };\n",
       "          s.onerror = () => reject(`Error loading script: ${paths[lib]}`);\n",
       "          s.src = paths[lib];\n",
       "        });\n",
       "    }\n",
       "\n",
       "    function showError(err) {\n",
       "      outputDiv.innerHTML = `<div class=\"error\" style=\"color:red;\">${err}</div>`;\n",
       "      throw err;\n",
       "    }\n",
       "\n",
       "    function displayChart(vegaEmbed) {\n",
       "      vegaEmbed(outputDiv, spec, embedOpt)\n",
       "        .catch(err => showError(`Javascript Error: ${err.message}<br>This usually means there's a typo in your chart specification. See the javascript console for the full traceback.`));\n",
       "    }\n",
       "\n",
       "    if(typeof define === \"function\" && define.amd) {\n",
       "      requirejs.config({paths});\n",
       "      require([\"vega-embed\"], displayChart, err => showError(`Error loading script: ${err.message}`));\n",
       "    } else {\n",
       "      maybeLoadScript(\"vega\", \"5\")\n",
       "        .then(() => maybeLoadScript(\"vega-lite\", \"5.16.3\"))\n",
       "        .then(() => maybeLoadScript(\"vega-embed\", \"6\"))\n",
       "        .catch(showError)\n",
       "        .then(() => displayChart(vegaEmbed));\n",
       "    }\n",
       "  })({\"config\": {\"view\": {\"continuousWidth\": 300, \"continuousHeight\": 300}}, \"data\": {\"name\": \"data-72fa7eaea915d722c2b264439d74a8e3\"}, \"mark\": {\"type\": \"line\", \"size\": 4}, \"encoding\": {\"x\": {\"axis\": {\"title\": \"date\"}, \"field\": \"dt\", \"type\": \"temporal\"}, \"y\": {\"axis\": {\"title\": \"number of users\"}, \"field\": \"userid\", \"type\": \"quantitative\"}}, \"height\": 400, \"title\": \"Daily Active Users\", \"width\": 600, \"$schema\": \"https://vega.github.io/schema/vega-lite/v5.16.3.json\", \"datasets\": {\"data-72fa7eaea915d722c2b264439d74a8e3\": [{\"dt\": \"2021-10-01\", \"userid\": 30634, \"activity_level\": 30634}, {\"dt\": \"2021-10-02\", \"userid\": 30775, \"activity_level\": 30775}, {\"dt\": \"2021-10-03\", \"userid\": 30785, \"activity_level\": 30785}, {\"dt\": \"2021-10-04\", \"userid\": 30599, \"activity_level\": 30599}, {\"dt\": \"2021-10-05\", \"userid\": 30588, \"activity_level\": 30588}, {\"dt\": \"2021-10-06\", \"userid\": 30639, \"activity_level\": 30639}, {\"dt\": \"2021-10-07\", \"userid\": 30637, \"activity_level\": 30637}, {\"dt\": \"2021-10-08\", \"userid\": 30600, \"activity_level\": 30600}, {\"dt\": \"2021-10-09\", \"userid\": 30902, \"activity_level\": 30902}, {\"dt\": \"2021-10-10\", \"userid\": 30581, \"activity_level\": 30581}, {\"dt\": \"2021-10-11\", \"userid\": 30489, \"activity_level\": 30489}, {\"dt\": \"2021-10-12\", \"userid\": 30715, \"activity_level\": 30715}, {\"dt\": \"2021-10-13\", \"userid\": 30761, \"activity_level\": 30761}, {\"dt\": \"2021-10-14\", \"userid\": 30716, \"activity_level\": 30716}, {\"dt\": \"2021-10-15\", \"userid\": 30637, \"activity_level\": 30637}, {\"dt\": \"2021-10-16\", \"userid\": 30708, \"activity_level\": 30708}, {\"dt\": \"2021-10-17\", \"userid\": 30741, \"activity_level\": 30741}, {\"dt\": \"2021-10-18\", \"userid\": 30694, \"activity_level\": 30694}, {\"dt\": \"2021-10-19\", \"userid\": 30587, \"activity_level\": 30587}, {\"dt\": \"2021-10-20\", \"userid\": 30795, \"activity_level\": 30795}, {\"dt\": \"2021-10-21\", \"userid\": 30705, \"activity_level\": 30705}, {\"dt\": \"2021-10-22\", \"userid\": 30573, \"activity_level\": 30573}, {\"dt\": \"2021-10-23\", \"userid\": 30645, \"activity_level\": 30645}, {\"dt\": \"2021-10-24\", \"userid\": 30815, \"activity_level\": 30815}, {\"dt\": \"2021-10-25\", \"userid\": 30616, \"activity_level\": 30616}, {\"dt\": \"2021-10-26\", \"userid\": 30673, \"activity_level\": 30673}, {\"dt\": \"2021-10-27\", \"userid\": 30661, \"activity_level\": 30661}, {\"dt\": \"2021-10-28\", \"userid\": 30734, \"activity_level\": 30734}, {\"dt\": \"2021-10-29\", \"userid\": 30723, \"activity_level\": 30723}, {\"dt\": \"2021-10-30\", \"userid\": 30628, \"activity_level\": 30628}, {\"dt\": \"2021-10-31\", \"userid\": 30519, \"activity_level\": 30519}]}}, {\"mode\": \"vega-lite\"});\n",
       "</script>"
      ],
      "text/plain": [
       "alt.Chart(...)"
      ]
     },
     "execution_count": 20,
     "metadata": {},
     "output_type": "execute_result"
    }
   ],
   "source": [
    "alt.Chart(activity).mark_line(size=4).encode(\n",
    "    alt.X('dt:T', axis=alt.Axis(title = 'date')),\n",
    "    alt.Y('userid:Q', axis=alt.Axis(title = 'number of users'))\n",
    ").properties(\n",
    "    width=600,\n",
    "    height=400, \n",
    "    title='Daily Active Users'\n",
    ")"
   ]
  },
  {
   "cell_type": "code",
   "execution_count": 21,
   "id": "6d38094d",
   "metadata": {},
   "outputs": [],
   "source": [
    "# We see that the number of active users is stable in october"
   ]
  },
  {
   "cell_type": "markdown",
   "id": "24754d46",
   "metadata": {},
   "source": [
    "### Click-through rate"
   ]
  },
  {
   "cell_type": "code",
   "execution_count": 23,
   "id": "1a96b4b2",
   "metadata": {},
   "outputs": [],
   "source": [
    "## Loading the data \n",
    "data = pd.read_csv(\"Ctr_pretest.csv\")"
   ]
  },
  {
   "cell_type": "code",
   "execution_count": 24,
   "id": "a7357d65",
   "metadata": {},
   "outputs": [
    {
     "data": {
      "text/html": [
       "<div>\n",
       "<style scoped>\n",
       "    .dataframe tbody tr th:only-of-type {\n",
       "        vertical-align: middle;\n",
       "    }\n",
       "\n",
       "    .dataframe tbody tr th {\n",
       "        vertical-align: top;\n",
       "    }\n",
       "\n",
       "    .dataframe thead th {\n",
       "        text-align: right;\n",
       "    }\n",
       "</style>\n",
       "<table border=\"1\" class=\"dataframe\">\n",
       "  <thead>\n",
       "    <tr style=\"text-align: right;\">\n",
       "      <th></th>\n",
       "      <th>userid</th>\n",
       "      <th>dt</th>\n",
       "      <th>ctr</th>\n",
       "    </tr>\n",
       "  </thead>\n",
       "  <tbody>\n",
       "    <tr>\n",
       "      <th>0</th>\n",
       "      <td>4b328144-df4b-47b1-a804-09834942dce0</td>\n",
       "      <td>2021-10-01</td>\n",
       "      <td>34.28</td>\n",
       "    </tr>\n",
       "    <tr>\n",
       "      <th>1</th>\n",
       "      <td>34ace777-5e9d-40b3-a859-4145d0c35c8d</td>\n",
       "      <td>2021-10-01</td>\n",
       "      <td>34.67</td>\n",
       "    </tr>\n",
       "    <tr>\n",
       "      <th>2</th>\n",
       "      <td>8028cccf-19c3-4c0e-b5b2-e707e15d2d83</td>\n",
       "      <td>2021-10-01</td>\n",
       "      <td>34.77</td>\n",
       "    </tr>\n",
       "    <tr>\n",
       "      <th>3</th>\n",
       "      <td>652b3c9c-5e29-4bf0-9373-924687b1567e</td>\n",
       "      <td>2021-10-01</td>\n",
       "      <td>35.42</td>\n",
       "    </tr>\n",
       "    <tr>\n",
       "      <th>4</th>\n",
       "      <td>45b57434-4666-4b57-9798-35489dc1092a</td>\n",
       "      <td>2021-10-01</td>\n",
       "      <td>35.04</td>\n",
       "    </tr>\n",
       "  </tbody>\n",
       "</table>\n",
       "</div>"
      ],
      "text/plain": [
       "                                 userid          dt    ctr\n",
       "0  4b328144-df4b-47b1-a804-09834942dce0  2021-10-01  34.28\n",
       "1  34ace777-5e9d-40b3-a859-4145d0c35c8d  2021-10-01  34.67\n",
       "2  8028cccf-19c3-4c0e-b5b2-e707e15d2d83  2021-10-01  34.77\n",
       "3  652b3c9c-5e29-4bf0-9373-924687b1567e  2021-10-01  35.42\n",
       "4  45b57434-4666-4b57-9798-35489dc1092a  2021-10-01  35.04"
      ]
     },
     "execution_count": 24,
     "metadata": {},
     "output_type": "execute_result"
    }
   ],
   "source": [
    "data.head()"
   ]
  },
  {
   "cell_type": "code",
   "execution_count": 25,
   "id": "a83cf1d9",
   "metadata": {},
   "outputs": [
    {
     "data": {
      "text/html": [
       "<div>\n",
       "<style scoped>\n",
       "    .dataframe tbody tr th:only-of-type {\n",
       "        vertical-align: middle;\n",
       "    }\n",
       "\n",
       "    .dataframe tbody tr th {\n",
       "        vertical-align: top;\n",
       "    }\n",
       "\n",
       "    .dataframe thead th {\n",
       "        text-align: right;\n",
       "    }\n",
       "</style>\n",
       "<table border=\"1\" class=\"dataframe\">\n",
       "  <thead>\n",
       "    <tr style=\"text-align: right;\">\n",
       "      <th></th>\n",
       "      <th>ctr</th>\n",
       "    </tr>\n",
       "  </thead>\n",
       "  <tbody>\n",
       "    <tr>\n",
       "      <th>count</th>\n",
       "      <td>950875.000000</td>\n",
       "    </tr>\n",
       "    <tr>\n",
       "      <th>mean</th>\n",
       "      <td>33.000242</td>\n",
       "    </tr>\n",
       "    <tr>\n",
       "      <th>std</th>\n",
       "      <td>1.731677</td>\n",
       "    </tr>\n",
       "    <tr>\n",
       "      <th>min</th>\n",
       "      <td>30.000000</td>\n",
       "    </tr>\n",
       "    <tr>\n",
       "      <th>25%</th>\n",
       "      <td>31.500000</td>\n",
       "    </tr>\n",
       "    <tr>\n",
       "      <th>50%</th>\n",
       "      <td>33.000000</td>\n",
       "    </tr>\n",
       "    <tr>\n",
       "      <th>75%</th>\n",
       "      <td>34.500000</td>\n",
       "    </tr>\n",
       "    <tr>\n",
       "      <th>max</th>\n",
       "      <td>36.000000</td>\n",
       "    </tr>\n",
       "  </tbody>\n",
       "</table>\n",
       "</div>"
      ],
      "text/plain": [
       "                 ctr\n",
       "count  950875.000000\n",
       "mean       33.000242\n",
       "std         1.731677\n",
       "min        30.000000\n",
       "25%        31.500000\n",
       "50%        33.000000\n",
       "75%        34.500000\n",
       "max        36.000000"
      ]
     },
     "execution_count": 25,
     "metadata": {},
     "output_type": "execute_result"
    }
   ],
   "source": [
    "data.describe()"
   ]
  },
  {
   "cell_type": "code",
   "execution_count": 31,
   "id": "4a186144",
   "metadata": {},
   "outputs": [
    {
     "data": {
      "text/plain": [
       "dt\n",
       "2021-10-01    32.993446\n",
       "2021-10-02    32.991664\n",
       "2021-10-03    32.995086\n",
       "2021-10-04    32.992995\n",
       "2021-10-05    33.004375\n",
       "2021-10-06    33.018564\n",
       "2021-10-07    32.988500\n",
       "2021-10-08    32.998654\n",
       "2021-10-09    33.005082\n",
       "2021-10-10    33.007134\n",
       "2021-10-11    32.990300\n",
       "2021-10-12    32.996166\n",
       "2021-10-13    32.984248\n",
       "2021-10-14    32.999878\n",
       "2021-10-15    33.008517\n",
       "2021-10-16    32.991025\n",
       "2021-10-17    33.001919\n",
       "2021-10-18    33.007763\n",
       "2021-10-19    33.001511\n",
       "2021-10-20    33.004632\n",
       "2021-10-21    32.997566\n",
       "2021-10-22    33.006785\n",
       "2021-10-23    33.012228\n",
       "2021-10-24    32.984093\n",
       "2021-10-25    32.990223\n",
       "2021-10-26    33.014248\n",
       "2021-10-27    33.007045\n",
       "2021-10-28    33.005711\n",
       "2021-10-29    33.004230\n",
       "2021-10-30    33.016430\n",
       "2021-10-31    32.987515\n",
       "Name: ctr, dtype: float64"
      ]
     },
     "execution_count": 31,
     "metadata": {},
     "output_type": "execute_result"
    }
   ],
   "source": [
    "ctr = data.groupby('dt')['ctr'].mean()\n",
    "ctr"
   ]
  },
  {
   "cell_type": "code",
   "execution_count": 34,
   "id": "bc85d2c4",
   "metadata": {},
   "outputs": [
    {
     "data": {
      "text/html": [
       "\n",
       "<style>\n",
       "  #altair-viz-bb74c33e17b841baa67d2ff409038d05.vega-embed {\n",
       "    width: 100%;\n",
       "    display: flex;\n",
       "  }\n",
       "\n",
       "  #altair-viz-bb74c33e17b841baa67d2ff409038d05.vega-embed details,\n",
       "  #altair-viz-bb74c33e17b841baa67d2ff409038d05.vega-embed details summary {\n",
       "    position: relative;\n",
       "  }\n",
       "</style>\n",
       "<div id=\"altair-viz-bb74c33e17b841baa67d2ff409038d05\"></div>\n",
       "<script type=\"text/javascript\">\n",
       "  var VEGA_DEBUG = (typeof VEGA_DEBUG == \"undefined\") ? {} : VEGA_DEBUG;\n",
       "  (function(spec, embedOpt){\n",
       "    let outputDiv = document.currentScript.previousElementSibling;\n",
       "    if (outputDiv.id !== \"altair-viz-bb74c33e17b841baa67d2ff409038d05\") {\n",
       "      outputDiv = document.getElementById(\"altair-viz-bb74c33e17b841baa67d2ff409038d05\");\n",
       "    }\n",
       "    const paths = {\n",
       "      \"vega\": \"https://cdn.jsdelivr.net/npm/vega@5?noext\",\n",
       "      \"vega-lib\": \"https://cdn.jsdelivr.net/npm/vega-lib?noext\",\n",
       "      \"vega-lite\": \"https://cdn.jsdelivr.net/npm/vega-lite@5.16.3?noext\",\n",
       "      \"vega-embed\": \"https://cdn.jsdelivr.net/npm/vega-embed@6?noext\",\n",
       "    };\n",
       "\n",
       "    function maybeLoadScript(lib, version) {\n",
       "      var key = `${lib.replace(\"-\", \"\")}_version`;\n",
       "      return (VEGA_DEBUG[key] == version) ?\n",
       "        Promise.resolve(paths[lib]) :\n",
       "        new Promise(function(resolve, reject) {\n",
       "          var s = document.createElement('script');\n",
       "          document.getElementsByTagName(\"head\")[0].appendChild(s);\n",
       "          s.async = true;\n",
       "          s.onload = () => {\n",
       "            VEGA_DEBUG[key] = version;\n",
       "            return resolve(paths[lib]);\n",
       "          };\n",
       "          s.onerror = () => reject(`Error loading script: ${paths[lib]}`);\n",
       "          s.src = paths[lib];\n",
       "        });\n",
       "    }\n",
       "\n",
       "    function showError(err) {\n",
       "      outputDiv.innerHTML = `<div class=\"error\" style=\"color:red;\">${err}</div>`;\n",
       "      throw err;\n",
       "    }\n",
       "\n",
       "    function displayChart(vegaEmbed) {\n",
       "      vegaEmbed(outputDiv, spec, embedOpt)\n",
       "        .catch(err => showError(`Javascript Error: ${err.message}<br>This usually means there's a typo in your chart specification. See the javascript console for the full traceback.`));\n",
       "    }\n",
       "\n",
       "    if(typeof define === \"function\" && define.amd) {\n",
       "      requirejs.config({paths});\n",
       "      require([\"vega-embed\"], displayChart, err => showError(`Error loading script: ${err.message}`));\n",
       "    } else {\n",
       "      maybeLoadScript(\"vega\", \"5\")\n",
       "        .then(() => maybeLoadScript(\"vega-lite\", \"5.16.3\"))\n",
       "        .then(() => maybeLoadScript(\"vega-embed\", \"6\"))\n",
       "        .catch(showError)\n",
       "        .then(() => displayChart(vegaEmbed));\n",
       "    }\n",
       "  })({\"config\": {\"view\": {\"continuousWidth\": 300, \"continuousHeight\": 300}}, \"data\": {\"name\": \"data-51dd1defcb5318f7b186d9860ba24846\"}, \"mark\": {\"type\": \"line\", \"size\": 4}, \"encoding\": {\"tooltip\": [{\"field\": \"ctr\", \"type\": \"quantitative\"}], \"x\": {\"axis\": {\"title\": \"date\"}, \"field\": \"dt\", \"type\": \"temporal\"}, \"y\": {\"axis\": {\"title\": \"ctr\"}, \"field\": \"ctr\", \"scale\": {\"domain\": [32, 34]}, \"type\": \"quantitative\"}}, \"height\": 400, \"title\": \"Average Daily CTR\", \"width\": 600, \"$schema\": \"https://vega.github.io/schema/vega-lite/v5.16.3.json\", \"datasets\": {\"data-51dd1defcb5318f7b186d9860ba24846\": [{\"dt\": \"2021-10-01\", \"ctr\": 32.993445844486516}, {\"dt\": \"2021-10-02\", \"ctr\": 32.99166433793663}, {\"dt\": \"2021-10-03\", \"ctr\": 32.99508624330031}, {\"dt\": \"2021-10-04\", \"ctr\": 32.992994542305304}, {\"dt\": \"2021-10-05\", \"ctr\": 33.00437524519419}, {\"dt\": \"2021-10-06\", \"ctr\": 33.018563921799014}, {\"dt\": \"2021-10-07\", \"ctr\": 32.98849985311878}, {\"dt\": \"2021-10-08\", \"ctr\": 32.99865359477124}, {\"dt\": \"2021-10-09\", \"ctr\": 33.00508154811986}, {\"dt\": \"2021-10-10\", \"ctr\": 33.00713449527485}, {\"dt\": \"2021-10-11\", \"ctr\": 32.9903004362229}, {\"dt\": \"2021-10-12\", \"ctr\": 32.996166368223996}, {\"dt\": \"2021-10-13\", \"ctr\": 32.98424823640324}, {\"dt\": \"2021-10-14\", \"ctr\": 32.99987791379086}, {\"dt\": \"2021-10-15\", \"ctr\": 33.00851747886542}, {\"dt\": \"2021-10-16\", \"ctr\": 32.9910254656767}, {\"dt\": \"2021-10-17\", \"ctr\": 33.00191861032497}, {\"dt\": \"2021-10-18\", \"ctr\": 33.007763406528966}, {\"dt\": \"2021-10-19\", \"ctr\": 33.00151077255043}, {\"dt\": \"2021-10-20\", \"ctr\": 33.0046322454944}, {\"dt\": \"2021-10-21\", \"ctr\": 32.99756586875102}, {\"dt\": \"2021-10-22\", \"ctr\": 33.00678507179538}, {\"dt\": \"2021-10-23\", \"ctr\": 33.012228095937346}, {\"dt\": \"2021-10-24\", \"ctr\": 32.984093136459514}, {\"dt\": \"2021-10-25\", \"ctr\": 32.99022275934152}, {\"dt\": \"2021-10-26\", \"ctr\": 33.014248035731754}, {\"dt\": \"2021-10-27\", \"ctr\": 33.00704510616092}, {\"dt\": \"2021-10-28\", \"ctr\": 33.00571061365263}, {\"dt\": \"2021-10-29\", \"ctr\": 33.004230055658624}, {\"dt\": \"2021-10-30\", \"ctr\": 33.01643006399373}, {\"dt\": \"2021-10-31\", \"ctr\": 32.98751499066155}]}}, {\"mode\": \"vega-lite\"});\n",
       "</script>"
      ],
      "text/plain": [
       "alt.Chart(...)"
      ]
     },
     "execution_count": 34,
     "metadata": {},
     "output_type": "execute_result"
    }
   ],
   "source": [
    "alt.Chart(ctr.reset_index()).mark_line(size=4).encode(\n",
    "    alt.X('dt:T', axis=alt.Axis(title = 'date')),\n",
    "    alt.Y('ctr:Q', axis=alt.Axis(title = 'ctr'), scale=alt.Scale(domain=[32, 34])),\n",
    "    tooltip=['ctr'], \n",
    ").properties(\n",
    "    width=600,\n",
    "    height=400, \n",
    "    title='Average Daily CTR'\n",
    ")"
   ]
  },
  {
   "cell_type": "code",
   "execution_count": null,
   "id": "4fda957f",
   "metadata": {},
   "outputs": [],
   "source": [
    "# The CTR is inline with DAU"
   ]
  },
  {
   "cell_type": "markdown",
   "id": "f23f6747-d8d7-4964-a5e3-432a05369bb3",
   "metadata": {},
   "source": [
    "# A/B test analysis"
   ]
  },
  {
   "cell_type": "markdown",
   "id": "0e346d33-6399-486d-b7da-7d5cf4fdec31",
   "metadata": {},
   "source": [
    "## Assignments"
   ]
  },
  {
   "cell_type": "code",
   "execution_count": 35,
   "id": "d1fe91d9-852d-4153-9c84-367f7168c3d6",
   "metadata": {},
   "outputs": [],
   "source": [
    "# First let's read the file with user assignments into test and control groups\n",
    "data = pd.read_csv(\"./Assignments.csv\")"
   ]
  },
  {
   "cell_type": "code",
   "execution_count": 36,
   "id": "e244d0b0-3be5-4df9-9da0-82e41636c07d",
   "metadata": {},
   "outputs": [
    {
     "data": {
      "text/html": [
       "<div>\n",
       "<style scoped>\n",
       "    .dataframe tbody tr th:only-of-type {\n",
       "        vertical-align: middle;\n",
       "    }\n",
       "\n",
       "    .dataframe tbody tr th {\n",
       "        vertical-align: top;\n",
       "    }\n",
       "\n",
       "    .dataframe thead th {\n",
       "        text-align: right;\n",
       "    }\n",
       "</style>\n",
       "<table border=\"1\" class=\"dataframe\">\n",
       "  <thead>\n",
       "    <tr style=\"text-align: right;\">\n",
       "      <th></th>\n",
       "      <th>userid</th>\n",
       "      <th>ts</th>\n",
       "      <th>groupid</th>\n",
       "    </tr>\n",
       "  </thead>\n",
       "  <tbody>\n",
       "    <tr>\n",
       "      <th>0</th>\n",
       "      <td>c5d77c89-33a3-4fe3-9e31-179dec09d49c</td>\n",
       "      <td>2021-11-02T07:31:42Z</td>\n",
       "      <td>0</td>\n",
       "    </tr>\n",
       "    <tr>\n",
       "      <th>1</th>\n",
       "      <td>9061d751-7a94-44d3-8792-5ca5ec59aa89</td>\n",
       "      <td>2021-11-13T07:43:51Z</td>\n",
       "      <td>0</td>\n",
       "    </tr>\n",
       "    <tr>\n",
       "      <th>2</th>\n",
       "      <td>a5b70ae7-f07c-4773-9df4-ce112bc9dc48</td>\n",
       "      <td>2021-11-20T19:26:07Z</td>\n",
       "      <td>0</td>\n",
       "    </tr>\n",
       "    <tr>\n",
       "      <th>3</th>\n",
       "      <td>d2646662-269f-49de-aab1-8776afced9a3</td>\n",
       "      <td>2021-11-20T11:09:02Z</td>\n",
       "      <td>0</td>\n",
       "    </tr>\n",
       "    <tr>\n",
       "      <th>4</th>\n",
       "      <td>2d9b23b7-4e5e-4162-9f0f-49e593fdd2b5</td>\n",
       "      <td>2021-11-04T07:42:07Z</td>\n",
       "      <td>0</td>\n",
       "    </tr>\n",
       "  </tbody>\n",
       "</table>\n",
       "</div>"
      ],
      "text/plain": [
       "                                 userid                    ts  groupid\n",
       "0  c5d77c89-33a3-4fe3-9e31-179dec09d49c  2021-11-02T07:31:42Z        0\n",
       "1  9061d751-7a94-44d3-8792-5ca5ec59aa89  2021-11-13T07:43:51Z        0\n",
       "2  a5b70ae7-f07c-4773-9df4-ce112bc9dc48  2021-11-20T19:26:07Z        0\n",
       "3  d2646662-269f-49de-aab1-8776afced9a3  2021-11-20T11:09:02Z        0\n",
       "4  2d9b23b7-4e5e-4162-9f0f-49e593fdd2b5  2021-11-04T07:42:07Z        0"
      ]
     },
     "execution_count": 36,
     "metadata": {},
     "output_type": "execute_result"
    }
   ],
   "source": [
    "data.head()"
   ]
  },
  {
   "cell_type": "code",
   "execution_count": 37,
   "id": "85f871a3-460b-4506-ab93-28a2334d9f4f",
   "metadata": {},
   "outputs": [],
   "source": [
    "# Extracting date from the \"ts\"\n",
    "data['dt'] = data['ts'].map(lambda x: datetime.strptime(x, '%Y-%m-%dT%H:%M:%SZ').strftime(\"%Y-%m-%d\"))"
   ]
  },
  {
   "cell_type": "code",
   "execution_count": 38,
   "id": "84a76d24-a8d5-4243-898b-aeea9359f64c",
   "metadata": {},
   "outputs": [
    {
     "data": {
      "text/html": [
       "<div>\n",
       "<style scoped>\n",
       "    .dataframe tbody tr th:only-of-type {\n",
       "        vertical-align: middle;\n",
       "    }\n",
       "\n",
       "    .dataframe tbody tr th {\n",
       "        vertical-align: top;\n",
       "    }\n",
       "\n",
       "    .dataframe thead th {\n",
       "        text-align: right;\n",
       "    }\n",
       "</style>\n",
       "<table border=\"1\" class=\"dataframe\">\n",
       "  <thead>\n",
       "    <tr style=\"text-align: right;\">\n",
       "      <th></th>\n",
       "      <th>userid</th>\n",
       "      <th>ts</th>\n",
       "      <th>groupid</th>\n",
       "      <th>dt</th>\n",
       "    </tr>\n",
       "  </thead>\n",
       "  <tbody>\n",
       "    <tr>\n",
       "      <th>0</th>\n",
       "      <td>c5d77c89-33a3-4fe3-9e31-179dec09d49c</td>\n",
       "      <td>2021-11-02T07:31:42Z</td>\n",
       "      <td>0</td>\n",
       "      <td>2021-11-02</td>\n",
       "    </tr>\n",
       "    <tr>\n",
       "      <th>1</th>\n",
       "      <td>9061d751-7a94-44d3-8792-5ca5ec59aa89</td>\n",
       "      <td>2021-11-13T07:43:51Z</td>\n",
       "      <td>0</td>\n",
       "      <td>2021-11-13</td>\n",
       "    </tr>\n",
       "    <tr>\n",
       "      <th>2</th>\n",
       "      <td>a5b70ae7-f07c-4773-9df4-ce112bc9dc48</td>\n",
       "      <td>2021-11-20T19:26:07Z</td>\n",
       "      <td>0</td>\n",
       "      <td>2021-11-20</td>\n",
       "    </tr>\n",
       "    <tr>\n",
       "      <th>3</th>\n",
       "      <td>d2646662-269f-49de-aab1-8776afced9a3</td>\n",
       "      <td>2021-11-20T11:09:02Z</td>\n",
       "      <td>0</td>\n",
       "      <td>2021-11-20</td>\n",
       "    </tr>\n",
       "    <tr>\n",
       "      <th>4</th>\n",
       "      <td>2d9b23b7-4e5e-4162-9f0f-49e593fdd2b5</td>\n",
       "      <td>2021-11-04T07:42:07Z</td>\n",
       "      <td>0</td>\n",
       "      <td>2021-11-04</td>\n",
       "    </tr>\n",
       "  </tbody>\n",
       "</table>\n",
       "</div>"
      ],
      "text/plain": [
       "                                 userid                    ts  groupid  \\\n",
       "0  c5d77c89-33a3-4fe3-9e31-179dec09d49c  2021-11-02T07:31:42Z        0   \n",
       "1  9061d751-7a94-44d3-8792-5ca5ec59aa89  2021-11-13T07:43:51Z        0   \n",
       "2  a5b70ae7-f07c-4773-9df4-ce112bc9dc48  2021-11-20T19:26:07Z        0   \n",
       "3  d2646662-269f-49de-aab1-8776afced9a3  2021-11-20T11:09:02Z        0   \n",
       "4  2d9b23b7-4e5e-4162-9f0f-49e593fdd2b5  2021-11-04T07:42:07Z        0   \n",
       "\n",
       "           dt  \n",
       "0  2021-11-02  \n",
       "1  2021-11-13  \n",
       "2  2021-11-20  \n",
       "3  2021-11-20  \n",
       "4  2021-11-04  "
      ]
     },
     "execution_count": 38,
     "metadata": {},
     "output_type": "execute_result"
    }
   ],
   "source": [
    "data.head()"
   ]
  },
  {
   "cell_type": "code",
   "execution_count": 40,
   "id": "11133ce5-448c-4d4d-b717-dc98011652bf",
   "metadata": {},
   "outputs": [
    {
     "data": {
      "text/html": [
       "<div>\n",
       "<style scoped>\n",
       "    .dataframe tbody tr th:only-of-type {\n",
       "        vertical-align: middle;\n",
       "    }\n",
       "\n",
       "    .dataframe tbody tr th {\n",
       "        vertical-align: top;\n",
       "    }\n",
       "\n",
       "    .dataframe thead th {\n",
       "        text-align: right;\n",
       "    }\n",
       "</style>\n",
       "<table border=\"1\" class=\"dataframe\">\n",
       "  <thead>\n",
       "    <tr style=\"text-align: right;\">\n",
       "      <th></th>\n",
       "      <th>userid</th>\n",
       "      <th>ts</th>\n",
       "      <th>dt</th>\n",
       "    </tr>\n",
       "    <tr>\n",
       "      <th>groupid</th>\n",
       "      <th></th>\n",
       "      <th></th>\n",
       "      <th></th>\n",
       "    </tr>\n",
       "  </thead>\n",
       "  <tbody>\n",
       "    <tr>\n",
       "      <th>0</th>\n",
       "      <td>29951</td>\n",
       "      <td>29951</td>\n",
       "      <td>29951</td>\n",
       "    </tr>\n",
       "    <tr>\n",
       "      <th>1</th>\n",
       "      <td>30049</td>\n",
       "      <td>30049</td>\n",
       "      <td>30049</td>\n",
       "    </tr>\n",
       "  </tbody>\n",
       "</table>\n",
       "</div>"
      ],
      "text/plain": [
       "         userid     ts     dt\n",
       "groupid                      \n",
       "0         29951  29951  29951\n",
       "1         30049  30049  30049"
      ]
     },
     "execution_count": 40,
     "metadata": {},
     "output_type": "execute_result"
    }
   ],
   "source": [
    "# Checking that the users are split evenly\n",
    "data.groupby('groupid').count()"
   ]
  },
  {
   "cell_type": "code",
   "execution_count": 41,
   "id": "a2a663f0-a170-46bd-9395-fd074cad537b",
   "metadata": {},
   "outputs": [],
   "source": [
    "data_count = data.groupby(['groupid','dt']).count().reset_index()"
   ]
  },
  {
   "cell_type": "code",
   "execution_count": 42,
   "id": "1a67c34d-305c-4cf5-9d03-6b7eb573a880",
   "metadata": {},
   "outputs": [
    {
     "data": {
      "text/html": [
       "\n",
       "<style>\n",
       "  #altair-viz-9579275a2ba64943b9fcadbff65aaaaf.vega-embed {\n",
       "    width: 100%;\n",
       "    display: flex;\n",
       "  }\n",
       "\n",
       "  #altair-viz-9579275a2ba64943b9fcadbff65aaaaf.vega-embed details,\n",
       "  #altair-viz-9579275a2ba64943b9fcadbff65aaaaf.vega-embed details summary {\n",
       "    position: relative;\n",
       "  }\n",
       "</style>\n",
       "<div id=\"altair-viz-9579275a2ba64943b9fcadbff65aaaaf\"></div>\n",
       "<script type=\"text/javascript\">\n",
       "  var VEGA_DEBUG = (typeof VEGA_DEBUG == \"undefined\") ? {} : VEGA_DEBUG;\n",
       "  (function(spec, embedOpt){\n",
       "    let outputDiv = document.currentScript.previousElementSibling;\n",
       "    if (outputDiv.id !== \"altair-viz-9579275a2ba64943b9fcadbff65aaaaf\") {\n",
       "      outputDiv = document.getElementById(\"altair-viz-9579275a2ba64943b9fcadbff65aaaaf\");\n",
       "    }\n",
       "    const paths = {\n",
       "      \"vega\": \"https://cdn.jsdelivr.net/npm/vega@5?noext\",\n",
       "      \"vega-lib\": \"https://cdn.jsdelivr.net/npm/vega-lib?noext\",\n",
       "      \"vega-lite\": \"https://cdn.jsdelivr.net/npm/vega-lite@5.16.3?noext\",\n",
       "      \"vega-embed\": \"https://cdn.jsdelivr.net/npm/vega-embed@6?noext\",\n",
       "    };\n",
       "\n",
       "    function maybeLoadScript(lib, version) {\n",
       "      var key = `${lib.replace(\"-\", \"\")}_version`;\n",
       "      return (VEGA_DEBUG[key] == version) ?\n",
       "        Promise.resolve(paths[lib]) :\n",
       "        new Promise(function(resolve, reject) {\n",
       "          var s = document.createElement('script');\n",
       "          document.getElementsByTagName(\"head\")[0].appendChild(s);\n",
       "          s.async = true;\n",
       "          s.onload = () => {\n",
       "            VEGA_DEBUG[key] = version;\n",
       "            return resolve(paths[lib]);\n",
       "          };\n",
       "          s.onerror = () => reject(`Error loading script: ${paths[lib]}`);\n",
       "          s.src = paths[lib];\n",
       "        });\n",
       "    }\n",
       "\n",
       "    function showError(err) {\n",
       "      outputDiv.innerHTML = `<div class=\"error\" style=\"color:red;\">${err}</div>`;\n",
       "      throw err;\n",
       "    }\n",
       "\n",
       "    function displayChart(vegaEmbed) {\n",
       "      vegaEmbed(outputDiv, spec, embedOpt)\n",
       "        .catch(err => showError(`Javascript Error: ${err.message}<br>This usually means there's a typo in your chart specification. See the javascript console for the full traceback.`));\n",
       "    }\n",
       "\n",
       "    if(typeof define === \"function\" && define.amd) {\n",
       "      requirejs.config({paths});\n",
       "      require([\"vega-embed\"], displayChart, err => showError(`Error loading script: ${err.message}`));\n",
       "    } else {\n",
       "      maybeLoadScript(\"vega\", \"5\")\n",
       "        .then(() => maybeLoadScript(\"vega-lite\", \"5.16.3\"))\n",
       "        .then(() => maybeLoadScript(\"vega-embed\", \"6\"))\n",
       "        .catch(showError)\n",
       "        .then(() => displayChart(vegaEmbed));\n",
       "    }\n",
       "  })({\"config\": {\"view\": {\"continuousWidth\": 300, \"continuousHeight\": 300}}, \"data\": {\"name\": \"data-4b258da0b049abdb4a925ee75c389021\"}, \"mark\": {\"type\": \"line\", \"size\": 3}, \"encoding\": {\"color\": {\"field\": \"groupid\", \"type\": \"ordinal\"}, \"tooltip\": [{\"field\": \"userid\", \"type\": \"quantitative\"}], \"x\": {\"field\": \"dt\", \"type\": \"nominal\"}, \"y\": {\"field\": \"userid\", \"type\": \"quantitative\"}}, \"height\": 400, \"width\": 600, \"$schema\": \"https://vega.github.io/schema/vega-lite/v5.16.3.json\", \"datasets\": {\"data-4b258da0b049abdb4a925ee75c389021\": [{\"groupid\": 0, \"dt\": \"2021-11-01\", \"userid\": 1497, \"ts\": 1497}, {\"groupid\": 0, \"dt\": \"2021-11-02\", \"userid\": 1467, \"ts\": 1467}, {\"groupid\": 0, \"dt\": \"2021-11-03\", \"userid\": 1532, \"ts\": 1532}, {\"groupid\": 0, \"dt\": \"2021-11-04\", \"userid\": 1509, \"ts\": 1509}, {\"groupid\": 0, \"dt\": \"2021-11-05\", \"userid\": 1503, \"ts\": 1503}, {\"groupid\": 0, \"dt\": \"2021-11-06\", \"userid\": 1510, \"ts\": 1510}, {\"groupid\": 0, \"dt\": \"2021-11-07\", \"userid\": 1505, \"ts\": 1505}, {\"groupid\": 0, \"dt\": \"2021-11-08\", \"userid\": 1517, \"ts\": 1517}, {\"groupid\": 0, \"dt\": \"2021-11-09\", \"userid\": 1541, \"ts\": 1541}, {\"groupid\": 0, \"dt\": \"2021-11-10\", \"userid\": 1505, \"ts\": 1505}, {\"groupid\": 0, \"dt\": \"2021-11-11\", \"userid\": 1495, \"ts\": 1495}, {\"groupid\": 0, \"dt\": \"2021-11-12\", \"userid\": 1464, \"ts\": 1464}, {\"groupid\": 0, \"dt\": \"2021-11-13\", \"userid\": 1455, \"ts\": 1455}, {\"groupid\": 0, \"dt\": \"2021-11-14\", \"userid\": 1495, \"ts\": 1495}, {\"groupid\": 0, \"dt\": \"2021-11-15\", \"userid\": 1513, \"ts\": 1513}, {\"groupid\": 0, \"dt\": \"2021-11-16\", \"userid\": 1436, \"ts\": 1436}, {\"groupid\": 0, \"dt\": \"2021-11-17\", \"userid\": 1490, \"ts\": 1490}, {\"groupid\": 0, \"dt\": \"2021-11-18\", \"userid\": 1517, \"ts\": 1517}, {\"groupid\": 0, \"dt\": \"2021-11-19\", \"userid\": 1496, \"ts\": 1496}, {\"groupid\": 0, \"dt\": \"2021-11-20\", \"userid\": 1504, \"ts\": 1504}, {\"groupid\": 1, \"dt\": \"2021-11-01\", \"userid\": 1504, \"ts\": 1504}, {\"groupid\": 1, \"dt\": \"2021-11-02\", \"userid\": 1464, \"ts\": 1464}, {\"groupid\": 1, \"dt\": \"2021-11-03\", \"userid\": 1510, \"ts\": 1510}, {\"groupid\": 1, \"dt\": \"2021-11-04\", \"userid\": 1507, \"ts\": 1507}, {\"groupid\": 1, \"dt\": \"2021-11-05\", \"userid\": 1519, \"ts\": 1519}, {\"groupid\": 1, \"dt\": \"2021-11-06\", \"userid\": 1538, \"ts\": 1538}, {\"groupid\": 1, \"dt\": \"2021-11-07\", \"userid\": 1516, \"ts\": 1516}, {\"groupid\": 1, \"dt\": \"2021-11-08\", \"userid\": 1443, \"ts\": 1443}, {\"groupid\": 1, \"dt\": \"2021-11-09\", \"userid\": 1454, \"ts\": 1454}, {\"groupid\": 1, \"dt\": \"2021-11-10\", \"userid\": 1506, \"ts\": 1506}, {\"groupid\": 1, \"dt\": \"2021-11-11\", \"userid\": 1477, \"ts\": 1477}, {\"groupid\": 1, \"dt\": \"2021-11-12\", \"userid\": 1532, \"ts\": 1532}, {\"groupid\": 1, \"dt\": \"2021-11-13\", \"userid\": 1522, \"ts\": 1522}, {\"groupid\": 1, \"dt\": \"2021-11-14\", \"userid\": 1482, \"ts\": 1482}, {\"groupid\": 1, \"dt\": \"2021-11-15\", \"userid\": 1524, \"ts\": 1524}, {\"groupid\": 1, \"dt\": \"2021-11-16\", \"userid\": 1509, \"ts\": 1509}, {\"groupid\": 1, \"dt\": \"2021-11-17\", \"userid\": 1462, \"ts\": 1462}, {\"groupid\": 1, \"dt\": \"2021-11-18\", \"userid\": 1529, \"ts\": 1529}, {\"groupid\": 1, \"dt\": \"2021-11-19\", \"userid\": 1494, \"ts\": 1494}, {\"groupid\": 1, \"dt\": \"2021-11-20\", \"userid\": 1557, \"ts\": 1557}]}}, {\"mode\": \"vega-lite\"});\n",
       "</script>"
      ],
      "text/plain": [
       "alt.Chart(...)"
      ]
     },
     "execution_count": 42,
     "metadata": {},
     "output_type": "execute_result"
    }
   ],
   "source": [
    "alt.Chart(data_count).mark_line(size=3).encode(\n",
    "    alt.X('dt'),\n",
    "    alt.Y('userid'),\n",
    "    color='groupid:O',\n",
    "    tooltip=['userid']\n",
    ").properties(\n",
    "    width=600,\n",
    "    height=400\n",
    ")"
   ]
  },
  {
   "cell_type": "markdown",
   "id": "0f34e44e-d187-415e-a172-830da62ca29b",
   "metadata": {},
   "source": [
    "## Calculating pre-test metrics"
   ]
  },
  {
   "cell_type": "markdown",
   "id": "04abdb7d-074b-4aed-a86b-677beb44ef37",
   "metadata": {},
   "source": [
    "### User activity"
   ]
  },
  {
   "cell_type": "code",
   "execution_count": 46,
   "id": "ec950c0e-8a16-4fa6-a760-370828f2b379",
   "metadata": {},
   "outputs": [],
   "source": [
    "data_act = pd.read_csv(\"./Activity_all.csv\")"
   ]
  },
  {
   "cell_type": "code",
   "execution_count": 47,
   "id": "9ebf0779-4af9-4772-964e-76e306697fe7",
   "metadata": {},
   "outputs": [
    {
     "data": {
      "text/html": [
       "<div>\n",
       "<style scoped>\n",
       "    .dataframe tbody tr th:only-of-type {\n",
       "        vertical-align: middle;\n",
       "    }\n",
       "\n",
       "    .dataframe tbody tr th {\n",
       "        vertical-align: top;\n",
       "    }\n",
       "\n",
       "    .dataframe thead th {\n",
       "        text-align: right;\n",
       "    }\n",
       "</style>\n",
       "<table border=\"1\" class=\"dataframe\">\n",
       "  <thead>\n",
       "    <tr style=\"text-align: right;\">\n",
       "      <th></th>\n",
       "      <th>userid</th>\n",
       "      <th>dt</th>\n",
       "      <th>groupid</th>\n",
       "      <th>activity_level</th>\n",
       "    </tr>\n",
       "  </thead>\n",
       "  <tbody>\n",
       "    <tr>\n",
       "      <th>0</th>\n",
       "      <td>a5b70ae7-f07c-4773-9df4-ce112bc9dc48</td>\n",
       "      <td>2021-10-01</td>\n",
       "      <td>0</td>\n",
       "      <td>0</td>\n",
       "    </tr>\n",
       "    <tr>\n",
       "      <th>1</th>\n",
       "      <td>d2646662-269f-49de-aab1-8776afced9a3</td>\n",
       "      <td>2021-10-01</td>\n",
       "      <td>0</td>\n",
       "      <td>0</td>\n",
       "    </tr>\n",
       "    <tr>\n",
       "      <th>2</th>\n",
       "      <td>c4d1cfa8-283d-49ad-a894-90aedc39c798</td>\n",
       "      <td>2021-10-01</td>\n",
       "      <td>1</td>\n",
       "      <td>0</td>\n",
       "    </tr>\n",
       "    <tr>\n",
       "      <th>3</th>\n",
       "      <td>6889f87f-5356-4904-a35a-6ea5020011db</td>\n",
       "      <td>2021-10-01</td>\n",
       "      <td>0</td>\n",
       "      <td>0</td>\n",
       "    </tr>\n",
       "    <tr>\n",
       "      <th>4</th>\n",
       "      <td>dbee604c-474a-4c9d-b013-508e5a0e3059</td>\n",
       "      <td>2021-10-01</td>\n",
       "      <td>1</td>\n",
       "      <td>0</td>\n",
       "    </tr>\n",
       "  </tbody>\n",
       "</table>\n",
       "</div>"
      ],
      "text/plain": [
       "                                 userid          dt  groupid  activity_level\n",
       "0  a5b70ae7-f07c-4773-9df4-ce112bc9dc48  2021-10-01        0               0\n",
       "1  d2646662-269f-49de-aab1-8776afced9a3  2021-10-01        0               0\n",
       "2  c4d1cfa8-283d-49ad-a894-90aedc39c798  2021-10-01        1               0\n",
       "3  6889f87f-5356-4904-a35a-6ea5020011db  2021-10-01        0               0\n",
       "4  dbee604c-474a-4c9d-b013-508e5a0e3059  2021-10-01        1               0"
      ]
     },
     "execution_count": 47,
     "metadata": {},
     "output_type": "execute_result"
    }
   ],
   "source": [
    "data_act.head()"
   ]
  },
  {
   "cell_type": "code",
   "execution_count": 48,
   "id": "f0140d32-1ab7-4d9c-80bf-0b5aa2805123",
   "metadata": {},
   "outputs": [
    {
     "data": {
      "text/html": [
       "\n",
       "<style>\n",
       "  #altair-viz-671490ef5f8a41d3b7b9521b5d3d9245.vega-embed {\n",
       "    width: 100%;\n",
       "    display: flex;\n",
       "  }\n",
       "\n",
       "  #altair-viz-671490ef5f8a41d3b7b9521b5d3d9245.vega-embed details,\n",
       "  #altair-viz-671490ef5f8a41d3b7b9521b5d3d9245.vega-embed details summary {\n",
       "    position: relative;\n",
       "  }\n",
       "</style>\n",
       "<div id=\"altair-viz-671490ef5f8a41d3b7b9521b5d3d9245\"></div>\n",
       "<script type=\"text/javascript\">\n",
       "  var VEGA_DEBUG = (typeof VEGA_DEBUG == \"undefined\") ? {} : VEGA_DEBUG;\n",
       "  (function(spec, embedOpt){\n",
       "    let outputDiv = document.currentScript.previousElementSibling;\n",
       "    if (outputDiv.id !== \"altair-viz-671490ef5f8a41d3b7b9521b5d3d9245\") {\n",
       "      outputDiv = document.getElementById(\"altair-viz-671490ef5f8a41d3b7b9521b5d3d9245\");\n",
       "    }\n",
       "    const paths = {\n",
       "      \"vega\": \"https://cdn.jsdelivr.net/npm/vega@5?noext\",\n",
       "      \"vega-lib\": \"https://cdn.jsdelivr.net/npm/vega-lib?noext\",\n",
       "      \"vega-lite\": \"https://cdn.jsdelivr.net/npm/vega-lite@5.16.3?noext\",\n",
       "      \"vega-embed\": \"https://cdn.jsdelivr.net/npm/vega-embed@6?noext\",\n",
       "    };\n",
       "\n",
       "    function maybeLoadScript(lib, version) {\n",
       "      var key = `${lib.replace(\"-\", \"\")}_version`;\n",
       "      return (VEGA_DEBUG[key] == version) ?\n",
       "        Promise.resolve(paths[lib]) :\n",
       "        new Promise(function(resolve, reject) {\n",
       "          var s = document.createElement('script');\n",
       "          document.getElementsByTagName(\"head\")[0].appendChild(s);\n",
       "          s.async = true;\n",
       "          s.onload = () => {\n",
       "            VEGA_DEBUG[key] = version;\n",
       "            return resolve(paths[lib]);\n",
       "          };\n",
       "          s.onerror = () => reject(`Error loading script: ${paths[lib]}`);\n",
       "          s.src = paths[lib];\n",
       "        });\n",
       "    }\n",
       "\n",
       "    function showError(err) {\n",
       "      outputDiv.innerHTML = `<div class=\"error\" style=\"color:red;\">${err}</div>`;\n",
       "      throw err;\n",
       "    }\n",
       "\n",
       "    function displayChart(vegaEmbed) {\n",
       "      vegaEmbed(outputDiv, spec, embedOpt)\n",
       "        .catch(err => showError(`Javascript Error: ${err.message}<br>This usually means there's a typo in your chart specification. See the javascript console for the full traceback.`));\n",
       "    }\n",
       "\n",
       "    if(typeof define === \"function\" && define.amd) {\n",
       "      requirejs.config({paths});\n",
       "      require([\"vega-embed\"], displayChart, err => showError(`Error loading script: ${err.message}`));\n",
       "    } else {\n",
       "      maybeLoadScript(\"vega\", \"5\")\n",
       "        .then(() => maybeLoadScript(\"vega-lite\", \"5.16.3\"))\n",
       "        .then(() => maybeLoadScript(\"vega-embed\", \"6\"))\n",
       "        .catch(showError)\n",
       "        .then(() => displayChart(vegaEmbed));\n",
       "    }\n",
       "  })({\"config\": {\"view\": {\"continuousWidth\": 300, \"continuousHeight\": 300}}, \"data\": {\"name\": \"data-394a1331192842b66704340d6621c3c8\"}, \"mark\": {\"type\": \"line\", \"size\": 3}, \"encoding\": {\"color\": {\"field\": \"groupid\", \"type\": \"ordinal\"}, \"tooltip\": [{\"field\": \"userid\", \"type\": \"quantitative\"}], \"x\": {\"field\": \"dt\", \"type\": \"nominal\"}, \"y\": {\"field\": \"userid\", \"type\": \"quantitative\"}}, \"height\": 400, \"width\": 600, \"$schema\": \"https://vega.github.io/schema/vega-lite/v5.16.3.json\", \"datasets\": {\"data-394a1331192842b66704340d6621c3c8\": [{\"dt\": \"2021-10-01\", \"groupid\": 0, \"userid\": 15337, \"activity_level\": 15337}, {\"dt\": \"2021-10-01\", \"groupid\": 1, \"userid\": 15297, \"activity_level\": 15297}, {\"dt\": \"2021-10-02\", \"groupid\": 0, \"userid\": 15354, \"activity_level\": 15354}, {\"dt\": \"2021-10-02\", \"groupid\": 1, \"userid\": 15421, \"activity_level\": 15421}, {\"dt\": \"2021-10-03\", \"groupid\": 0, \"userid\": 15423, \"activity_level\": 15423}, {\"dt\": \"2021-10-03\", \"groupid\": 1, \"userid\": 15362, \"activity_level\": 15362}, {\"dt\": \"2021-10-04\", \"groupid\": 0, \"userid\": 15211, \"activity_level\": 15211}, {\"dt\": \"2021-10-04\", \"groupid\": 1, \"userid\": 15388, \"activity_level\": 15388}, {\"dt\": \"2021-10-05\", \"groupid\": 0, \"userid\": 15126, \"activity_level\": 15126}, {\"dt\": \"2021-10-05\", \"groupid\": 1, \"userid\": 15462, \"activity_level\": 15462}, {\"dt\": \"2021-10-06\", \"groupid\": 0, \"userid\": 15335, \"activity_level\": 15335}, {\"dt\": \"2021-10-06\", \"groupid\": 1, \"userid\": 15304, \"activity_level\": 15304}, {\"dt\": \"2021-10-07\", \"groupid\": 0, \"userid\": 15346, \"activity_level\": 15346}, {\"dt\": \"2021-10-07\", \"groupid\": 1, \"userid\": 15291, \"activity_level\": 15291}, {\"dt\": \"2021-10-08\", \"groupid\": 0, \"userid\": 15357, \"activity_level\": 15357}, {\"dt\": \"2021-10-08\", \"groupid\": 1, \"userid\": 15243, \"activity_level\": 15243}, {\"dt\": \"2021-10-09\", \"groupid\": 0, \"userid\": 15371, \"activity_level\": 15371}, {\"dt\": \"2021-10-09\", \"groupid\": 1, \"userid\": 15531, \"activity_level\": 15531}, {\"dt\": \"2021-10-10\", \"groupid\": 0, \"userid\": 15277, \"activity_level\": 15277}, {\"dt\": \"2021-10-10\", \"groupid\": 1, \"userid\": 15304, \"activity_level\": 15304}, {\"dt\": \"2021-10-11\", \"groupid\": 0, \"userid\": 15226, \"activity_level\": 15226}, {\"dt\": \"2021-10-11\", \"groupid\": 1, \"userid\": 15263, \"activity_level\": 15263}, {\"dt\": \"2021-10-12\", \"groupid\": 0, \"userid\": 15290, \"activity_level\": 15290}, {\"dt\": \"2021-10-12\", \"groupid\": 1, \"userid\": 15425, \"activity_level\": 15425}, {\"dt\": \"2021-10-13\", \"groupid\": 0, \"userid\": 15334, \"activity_level\": 15334}, {\"dt\": \"2021-10-13\", \"groupid\": 1, \"userid\": 15427, \"activity_level\": 15427}, {\"dt\": \"2021-10-14\", \"groupid\": 0, \"userid\": 15295, \"activity_level\": 15295}, {\"dt\": \"2021-10-14\", \"groupid\": 1, \"userid\": 15421, \"activity_level\": 15421}, {\"dt\": \"2021-10-15\", \"groupid\": 0, \"userid\": 15277, \"activity_level\": 15277}, {\"dt\": \"2021-10-15\", \"groupid\": 1, \"userid\": 15360, \"activity_level\": 15360}, {\"dt\": \"2021-10-16\", \"groupid\": 0, \"userid\": 15348, \"activity_level\": 15348}, {\"dt\": \"2021-10-16\", \"groupid\": 1, \"userid\": 15360, \"activity_level\": 15360}, {\"dt\": \"2021-10-17\", \"groupid\": 0, \"userid\": 15430, \"activity_level\": 15430}, {\"dt\": \"2021-10-17\", \"groupid\": 1, \"userid\": 15311, \"activity_level\": 15311}, {\"dt\": \"2021-10-18\", \"groupid\": 0, \"userid\": 15244, \"activity_level\": 15244}, {\"dt\": \"2021-10-18\", \"groupid\": 1, \"userid\": 15450, \"activity_level\": 15450}, {\"dt\": \"2021-10-19\", \"groupid\": 0, \"userid\": 15303, \"activity_level\": 15303}, {\"dt\": \"2021-10-19\", \"groupid\": 1, \"userid\": 15284, \"activity_level\": 15284}, {\"dt\": \"2021-10-20\", \"groupid\": 0, \"userid\": 15382, \"activity_level\": 15382}, {\"dt\": \"2021-10-20\", \"groupid\": 1, \"userid\": 15413, \"activity_level\": 15413}, {\"dt\": \"2021-10-21\", \"groupid\": 0, \"userid\": 15431, \"activity_level\": 15431}, {\"dt\": \"2021-10-21\", \"groupid\": 1, \"userid\": 15274, \"activity_level\": 15274}, {\"dt\": \"2021-10-22\", \"groupid\": 0, \"userid\": 15356, \"activity_level\": 15356}, {\"dt\": \"2021-10-22\", \"groupid\": 1, \"userid\": 15217, \"activity_level\": 15217}, {\"dt\": \"2021-10-23\", \"groupid\": 0, \"userid\": 15151, \"activity_level\": 15151}, {\"dt\": \"2021-10-23\", \"groupid\": 1, \"userid\": 15494, \"activity_level\": 15494}, {\"dt\": \"2021-10-24\", \"groupid\": 0, \"userid\": 15512, \"activity_level\": 15512}, {\"dt\": \"2021-10-24\", \"groupid\": 1, \"userid\": 15303, \"activity_level\": 15303}, {\"dt\": \"2021-10-25\", \"groupid\": 0, \"userid\": 15351, \"activity_level\": 15351}, {\"dt\": \"2021-10-25\", \"groupid\": 1, \"userid\": 15265, \"activity_level\": 15265}, {\"dt\": \"2021-10-26\", \"groupid\": 0, \"userid\": 15280, \"activity_level\": 15280}, {\"dt\": \"2021-10-26\", \"groupid\": 1, \"userid\": 15393, \"activity_level\": 15393}, {\"dt\": \"2021-10-27\", \"groupid\": 0, \"userid\": 15459, \"activity_level\": 15459}, {\"dt\": \"2021-10-27\", \"groupid\": 1, \"userid\": 15202, \"activity_level\": 15202}, {\"dt\": \"2021-10-28\", \"groupid\": 0, \"userid\": 15434, \"activity_level\": 15434}, {\"dt\": \"2021-10-28\", \"groupid\": 1, \"userid\": 15300, \"activity_level\": 15300}, {\"dt\": \"2021-10-29\", \"groupid\": 0, \"userid\": 15214, \"activity_level\": 15214}, {\"dt\": \"2021-10-29\", \"groupid\": 1, \"userid\": 15509, \"activity_level\": 15509}, {\"dt\": \"2021-10-30\", \"groupid\": 0, \"userid\": 15285, \"activity_level\": 15285}, {\"dt\": \"2021-10-30\", \"groupid\": 1, \"userid\": 15343, \"activity_level\": 15343}, {\"dt\": \"2021-10-31\", \"groupid\": 0, \"userid\": 15208, \"activity_level\": 15208}, {\"dt\": \"2021-10-31\", \"groupid\": 1, \"userid\": 15311, \"activity_level\": 15311}, {\"dt\": \"2021-11-01\", \"groupid\": 0, \"userid\": 15989, \"activity_level\": 15989}, {\"dt\": \"2021-11-01\", \"groupid\": 1, \"userid\": 29318, \"activity_level\": 29318}, {\"dt\": \"2021-11-02\", \"groupid\": 0, \"userid\": 16024, \"activity_level\": 16024}, {\"dt\": \"2021-11-02\", \"groupid\": 1, \"userid\": 29289, \"activity_level\": 29289}, {\"dt\": \"2021-11-03\", \"groupid\": 0, \"userid\": 16049, \"activity_level\": 16049}, {\"dt\": \"2021-11-03\", \"groupid\": 1, \"userid\": 29306, \"activity_level\": 29306}, {\"dt\": \"2021-11-04\", \"groupid\": 0, \"userid\": 16040, \"activity_level\": 16040}, {\"dt\": \"2021-11-04\", \"groupid\": 1, \"userid\": 29267, \"activity_level\": 29267}, {\"dt\": \"2021-11-05\", \"groupid\": 0, \"userid\": 16045, \"activity_level\": 16045}, {\"dt\": \"2021-11-05\", \"groupid\": 1, \"userid\": 29336, \"activity_level\": 29336}, {\"dt\": \"2021-11-06\", \"groupid\": 0, \"userid\": 15991, \"activity_level\": 15991}, {\"dt\": \"2021-11-06\", \"groupid\": 1, \"userid\": 29306, \"activity_level\": 29306}, {\"dt\": \"2021-11-07\", \"groupid\": 0, \"userid\": 16133, \"activity_level\": 16133}, {\"dt\": \"2021-11-07\", \"groupid\": 1, \"userid\": 29255, \"activity_level\": 29255}, {\"dt\": \"2021-11-08\", \"groupid\": 0, \"userid\": 16119, \"activity_level\": 16119}, {\"dt\": \"2021-11-08\", \"groupid\": 1, \"userid\": 29263, \"activity_level\": 29263}, {\"dt\": \"2021-11-09\", \"groupid\": 0, \"userid\": 15953, \"activity_level\": 15953}, {\"dt\": \"2021-11-09\", \"groupid\": 1, \"userid\": 29286, \"activity_level\": 29286}, {\"dt\": \"2021-11-10\", \"groupid\": 0, \"userid\": 15990, \"activity_level\": 15990}, {\"dt\": \"2021-11-10\", \"groupid\": 1, \"userid\": 29340, \"activity_level\": 29340}, {\"dt\": \"2021-11-11\", \"groupid\": 0, \"userid\": 16045, \"activity_level\": 16045}, {\"dt\": \"2021-11-11\", \"groupid\": 1, \"userid\": 29349, \"activity_level\": 29349}, {\"dt\": \"2021-11-12\", \"groupid\": 0, \"userid\": 15859, \"activity_level\": 15859}, {\"dt\": \"2021-11-12\", \"groupid\": 1, \"userid\": 29278, \"activity_level\": 29278}, {\"dt\": \"2021-11-13\", \"groupid\": 0, \"userid\": 15973, \"activity_level\": 15973}, {\"dt\": \"2021-11-13\", \"groupid\": 1, \"userid\": 29258, \"activity_level\": 29258}, {\"dt\": \"2021-11-14\", \"groupid\": 0, \"userid\": 16016, \"activity_level\": 16016}, {\"dt\": \"2021-11-14\", \"groupid\": 1, \"userid\": 29322, \"activity_level\": 29322}, {\"dt\": \"2021-11-15\", \"groupid\": 0, \"userid\": 16112, \"activity_level\": 16112}, {\"dt\": \"2021-11-15\", \"groupid\": 1, \"userid\": 29337, \"activity_level\": 29337}, {\"dt\": \"2021-11-16\", \"groupid\": 0, \"userid\": 16147, \"activity_level\": 16147}, {\"dt\": \"2021-11-16\", \"groupid\": 1, \"userid\": 29300, \"activity_level\": 29300}, {\"dt\": \"2021-11-17\", \"groupid\": 0, \"userid\": 16015, \"activity_level\": 16015}, {\"dt\": \"2021-11-17\", \"groupid\": 1, \"userid\": 29296, \"activity_level\": 29296}, {\"dt\": \"2021-11-18\", \"groupid\": 0, \"userid\": 16007, \"activity_level\": 16007}, {\"dt\": \"2021-11-18\", \"groupid\": 1, \"userid\": 29274, \"activity_level\": 29274}, {\"dt\": \"2021-11-19\", \"groupid\": 0, \"userid\": 16104, \"activity_level\": 16104}, {\"dt\": \"2021-11-19\", \"groupid\": 1, \"userid\": 29292, \"activity_level\": 29292}, {\"dt\": \"2021-11-20\", \"groupid\": 0, \"userid\": 16090, \"activity_level\": 16090}, {\"dt\": \"2021-11-20\", \"groupid\": 1, \"userid\": 29329, \"activity_level\": 29329}, {\"dt\": \"2021-11-21\", \"groupid\": 0, \"userid\": 15294, \"activity_level\": 15294}, {\"dt\": \"2021-11-21\", \"groupid\": 1, \"userid\": 29309, \"activity_level\": 29309}, {\"dt\": \"2021-11-22\", \"groupid\": 0, \"userid\": 15207, \"activity_level\": 15207}, {\"dt\": \"2021-11-22\", \"groupid\": 1, \"userid\": 29278, \"activity_level\": 29278}, {\"dt\": \"2021-11-23\", \"groupid\": 0, \"userid\": 15424, \"activity_level\": 15424}, {\"dt\": \"2021-11-23\", \"groupid\": 1, \"userid\": 29300, \"activity_level\": 29300}, {\"dt\": \"2021-11-24\", \"groupid\": 0, \"userid\": 15328, \"activity_level\": 15328}, {\"dt\": \"2021-11-24\", \"groupid\": 1, \"userid\": 29287, \"activity_level\": 29287}, {\"dt\": \"2021-11-25\", \"groupid\": 0, \"userid\": 15163, \"activity_level\": 15163}, {\"dt\": \"2021-11-25\", \"groupid\": 1, \"userid\": 29301, \"activity_level\": 29301}, {\"dt\": \"2021-11-26\", \"groupid\": 0, \"userid\": 15226, \"activity_level\": 15226}, {\"dt\": \"2021-11-26\", \"groupid\": 1, \"userid\": 29303, \"activity_level\": 29303}, {\"dt\": \"2021-11-27\", \"groupid\": 0, \"userid\": 15286, \"activity_level\": 15286}, {\"dt\": \"2021-11-27\", \"groupid\": 1, \"userid\": 29350, \"activity_level\": 29350}, {\"dt\": \"2021-11-28\", \"groupid\": 0, \"userid\": 15283, \"activity_level\": 15283}, {\"dt\": \"2021-11-28\", \"groupid\": 1, \"userid\": 29273, \"activity_level\": 29273}, {\"dt\": \"2021-11-29\", \"groupid\": 0, \"userid\": 15356, \"activity_level\": 15356}, {\"dt\": \"2021-11-29\", \"groupid\": 1, \"userid\": 29289, \"activity_level\": 29289}, {\"dt\": \"2021-11-30\", \"groupid\": 0, \"userid\": 15192, \"activity_level\": 15192}, {\"dt\": \"2021-11-30\", \"groupid\": 1, \"userid\": 29382, \"activity_level\": 29382}]}}, {\"mode\": \"vega-lite\"});\n",
       "</script>"
      ],
      "text/plain": [
       "alt.Chart(...)"
      ]
     },
     "execution_count": 48,
     "metadata": {},
     "output_type": "execute_result"
    }
   ],
   "source": [
    "alt.Chart(data_act[data_act['activity_level'] > 0].groupby(['dt', 'groupid']).count().reset_index()).mark_line(size=3).encode(\n",
    "    alt.X('dt'),\n",
    "    alt.Y('userid'),\n",
    "    color='groupid:O',\n",
    "    tooltip=['userid']\n",
    ").properties(\n",
    "    width=600,\n",
    "    height=400\n",
    ")"
   ]
  },
  {
   "cell_type": "code",
   "execution_count": 61,
   "id": "f8f821a4-0c02-4b5b-9385-d9041dfdeb2f",
   "metadata": {},
   "outputs": [
    {
     "data": {
      "text/html": [
       "<div>\n",
       "<style scoped>\n",
       "    .dataframe tbody tr th:only-of-type {\n",
       "        vertical-align: middle;\n",
       "    }\n",
       "\n",
       "    .dataframe tbody tr th {\n",
       "        vertical-align: top;\n",
       "    }\n",
       "\n",
       "    .dataframe thead th {\n",
       "        text-align: right;\n",
       "    }\n",
       "</style>\n",
       "<table border=\"1\" class=\"dataframe\">\n",
       "  <thead>\n",
       "    <tr style=\"text-align: right;\">\n",
       "      <th></th>\n",
       "      <th>groupid</th>\n",
       "      <th>activity_level</th>\n",
       "    </tr>\n",
       "  </thead>\n",
       "  <tbody>\n",
       "    <tr>\n",
       "      <th>count</th>\n",
       "      <td>30.0</td>\n",
       "      <td>30.000000</td>\n",
       "    </tr>\n",
       "    <tr>\n",
       "      <th>mean</th>\n",
       "      <td>0.0</td>\n",
       "      <td>15782.000000</td>\n",
       "    </tr>\n",
       "    <tr>\n",
       "      <th>std</th>\n",
       "      <td>0.0</td>\n",
       "      <td>371.077276</td>\n",
       "    </tr>\n",
       "    <tr>\n",
       "      <th>min</th>\n",
       "      <td>0.0</td>\n",
       "      <td>15163.000000</td>\n",
       "    </tr>\n",
       "    <tr>\n",
       "      <th>25%</th>\n",
       "      <td>0.0</td>\n",
       "      <td>15335.000000</td>\n",
       "    </tr>\n",
       "    <tr>\n",
       "      <th>50%</th>\n",
       "      <td>0.0</td>\n",
       "      <td>15990.500000</td>\n",
       "    </tr>\n",
       "    <tr>\n",
       "      <th>75%</th>\n",
       "      <td>0.0</td>\n",
       "      <td>16045.000000</td>\n",
       "    </tr>\n",
       "    <tr>\n",
       "      <th>max</th>\n",
       "      <td>0.0</td>\n",
       "      <td>16147.000000</td>\n",
       "    </tr>\n",
       "  </tbody>\n",
       "</table>\n",
       "</div>"
      ],
      "text/plain": [
       "       groupid  activity_level\n",
       "count     30.0       30.000000\n",
       "mean       0.0    15782.000000\n",
       "std        0.0      371.077276\n",
       "min        0.0    15163.000000\n",
       "25%        0.0    15335.000000\n",
       "50%        0.0    15990.500000\n",
       "75%        0.0    16045.000000\n",
       "max        0.0    16147.000000"
      ]
     },
     "execution_count": 61,
     "metadata": {},
     "output_type": "execute_result"
    }
   ],
   "source": [
    "# It appears that the test began @ 2021-11-01. Lets split the data into groups and calculate the activityy levels\n",
    "\n",
    "data_act[(data_act['activity_level'] > 0) & (data_act['groupid'] == 0) & (data_act['dt'] >= \"2021-11-01\")].groupby(['dt','groupid']).count().reset_index()[['groupid','activity_level']].describe()\n",
    "\n"
   ]
  },
  {
   "cell_type": "code",
   "execution_count": 62,
   "id": "c9c9b2f9-d220-44d4-9f1b-12861828978b",
   "metadata": {},
   "outputs": [
    {
     "data": {
      "text/html": [
       "<div>\n",
       "<style scoped>\n",
       "    .dataframe tbody tr th:only-of-type {\n",
       "        vertical-align: middle;\n",
       "    }\n",
       "\n",
       "    .dataframe tbody tr th {\n",
       "        vertical-align: top;\n",
       "    }\n",
       "\n",
       "    .dataframe thead th {\n",
       "        text-align: right;\n",
       "    }\n",
       "</style>\n",
       "<table border=\"1\" class=\"dataframe\">\n",
       "  <thead>\n",
       "    <tr style=\"text-align: right;\">\n",
       "      <th></th>\n",
       "      <th>groupid</th>\n",
       "      <th>activity_level</th>\n",
       "    </tr>\n",
       "  </thead>\n",
       "  <tbody>\n",
       "    <tr>\n",
       "      <th>count</th>\n",
       "      <td>30.0</td>\n",
       "      <td>30.000000</td>\n",
       "    </tr>\n",
       "    <tr>\n",
       "      <th>mean</th>\n",
       "      <td>1.0</td>\n",
       "      <td>29302.433333</td>\n",
       "    </tr>\n",
       "    <tr>\n",
       "      <th>std</th>\n",
       "      <td>0.0</td>\n",
       "      <td>30.417422</td>\n",
       "    </tr>\n",
       "    <tr>\n",
       "      <th>min</th>\n",
       "      <td>1.0</td>\n",
       "      <td>29255.000000</td>\n",
       "    </tr>\n",
       "    <tr>\n",
       "      <th>25%</th>\n",
       "      <td>1.0</td>\n",
       "      <td>29280.000000</td>\n",
       "    </tr>\n",
       "    <tr>\n",
       "      <th>50%</th>\n",
       "      <td>1.0</td>\n",
       "      <td>29300.000000</td>\n",
       "    </tr>\n",
       "    <tr>\n",
       "      <th>75%</th>\n",
       "      <td>1.0</td>\n",
       "      <td>29321.000000</td>\n",
       "    </tr>\n",
       "    <tr>\n",
       "      <th>max</th>\n",
       "      <td>1.0</td>\n",
       "      <td>29382.000000</td>\n",
       "    </tr>\n",
       "  </tbody>\n",
       "</table>\n",
       "</div>"
      ],
      "text/plain": [
       "       groupid  activity_level\n",
       "count     30.0       30.000000\n",
       "mean       1.0    29302.433333\n",
       "std        0.0       30.417422\n",
       "min        1.0    29255.000000\n",
       "25%        1.0    29280.000000\n",
       "50%        1.0    29300.000000\n",
       "75%        1.0    29321.000000\n",
       "max        1.0    29382.000000"
      ]
     },
     "execution_count": 62,
     "metadata": {},
     "output_type": "execute_result"
    }
   ],
   "source": [
    "# Activity in test group is significantly higher\n",
    "data_act[(data_act['activity_level'] > 0) & (data_act['groupid'] == 1) & (data_act['dt'] >= \"2021-11-01\")].groupby(['dt','groupid']).count().reset_index()[['groupid','activity_level']].describe()"
   ]
  },
  {
   "cell_type": "code",
   "execution_count": 65,
   "id": "77bd83cf-ec2c-41a4-b4d9-683256d794f2",
   "metadata": {},
   "outputs": [
    {
     "data": {
      "text/html": [
       "<div>\n",
       "<style scoped>\n",
       "    .dataframe tbody tr th:only-of-type {\n",
       "        vertical-align: middle;\n",
       "    }\n",
       "\n",
       "    .dataframe tbody tr th {\n",
       "        vertical-align: top;\n",
       "    }\n",
       "\n",
       "    .dataframe thead tr th {\n",
       "        text-align: left;\n",
       "    }\n",
       "\n",
       "    .dataframe thead tr:last-of-type th {\n",
       "        text-align: right;\n",
       "    }\n",
       "</style>\n",
       "<table border=\"1\" class=\"dataframe\">\n",
       "  <thead>\n",
       "    <tr>\n",
       "      <th></th>\n",
       "      <th colspan=\"8\" halign=\"left\">activity_level</th>\n",
       "    </tr>\n",
       "    <tr>\n",
       "      <th></th>\n",
       "      <th>count</th>\n",
       "      <th>mean</th>\n",
       "      <th>std</th>\n",
       "      <th>min</th>\n",
       "      <th>25%</th>\n",
       "      <th>50%</th>\n",
       "      <th>75%</th>\n",
       "      <th>max</th>\n",
       "    </tr>\n",
       "    <tr>\n",
       "      <th>groupid</th>\n",
       "      <th></th>\n",
       "      <th></th>\n",
       "      <th></th>\n",
       "      <th></th>\n",
       "      <th></th>\n",
       "      <th></th>\n",
       "      <th></th>\n",
       "      <th></th>\n",
       "    </tr>\n",
       "  </thead>\n",
       "  <tbody>\n",
       "    <tr>\n",
       "      <th>0</th>\n",
       "      <td>898530.0</td>\n",
       "      <td>5.402211</td>\n",
       "      <td>6.55557</td>\n",
       "      <td>0.0</td>\n",
       "      <td>0.0</td>\n",
       "      <td>1.0</td>\n",
       "      <td>11.0</td>\n",
       "      <td>20.0</td>\n",
       "    </tr>\n",
       "    <tr>\n",
       "      <th>1</th>\n",
       "      <td>901470.0</td>\n",
       "      <td>9.996304</td>\n",
       "      <td>5.78868</td>\n",
       "      <td>0.0</td>\n",
       "      <td>5.0</td>\n",
       "      <td>10.0</td>\n",
       "      <td>15.0</td>\n",
       "      <td>20.0</td>\n",
       "    </tr>\n",
       "  </tbody>\n",
       "</table>\n",
       "</div>"
      ],
      "text/plain": [
       "        activity_level                                               \n",
       "                 count      mean      std  min  25%   50%   75%   max\n",
       "groupid                                                              \n",
       "0             898530.0  5.402211  6.55557  0.0  0.0   1.0  11.0  20.0\n",
       "1             901470.0  9.996304  5.78868  0.0  5.0  10.0  15.0  20.0"
      ]
     },
     "execution_count": 65,
     "metadata": {},
     "output_type": "execute_result"
    }
   ],
   "source": [
    "data_act[data_act['dt'] >= \"2021-11-01\"].groupby(['groupid']).describe()"
   ]
  },
  {
   "cell_type": "code",
   "execution_count": 66,
   "id": "3cef8287-1529-42ef-b075-dcc7a1930cec",
   "metadata": {},
   "outputs": [
    {
     "data": {
      "text/html": [
       "<div>\n",
       "<style scoped>\n",
       "    .dataframe tbody tr th:only-of-type {\n",
       "        vertical-align: middle;\n",
       "    }\n",
       "\n",
       "    .dataframe tbody tr th {\n",
       "        vertical-align: top;\n",
       "    }\n",
       "\n",
       "    .dataframe thead tr th {\n",
       "        text-align: left;\n",
       "    }\n",
       "\n",
       "    .dataframe thead tr:last-of-type th {\n",
       "        text-align: right;\n",
       "    }\n",
       "</style>\n",
       "<table border=\"1\" class=\"dataframe\">\n",
       "  <thead>\n",
       "    <tr>\n",
       "      <th></th>\n",
       "      <th colspan=\"8\" halign=\"left\">activity_level</th>\n",
       "    </tr>\n",
       "    <tr>\n",
       "      <th></th>\n",
       "      <th>count</th>\n",
       "      <th>mean</th>\n",
       "      <th>std</th>\n",
       "      <th>min</th>\n",
       "      <th>25%</th>\n",
       "      <th>50%</th>\n",
       "      <th>75%</th>\n",
       "      <th>max</th>\n",
       "    </tr>\n",
       "    <tr>\n",
       "      <th>groupid</th>\n",
       "      <th></th>\n",
       "      <th></th>\n",
       "      <th></th>\n",
       "      <th></th>\n",
       "      <th></th>\n",
       "      <th></th>\n",
       "      <th></th>\n",
       "      <th></th>\n",
       "    </tr>\n",
       "  </thead>\n",
       "  <tbody>\n",
       "    <tr>\n",
       "      <th>0</th>\n",
       "      <td>928481.0</td>\n",
       "      <td>5.245635</td>\n",
       "      <td>6.521184</td>\n",
       "      <td>0.0</td>\n",
       "      <td>0.0</td>\n",
       "      <td>1.0</td>\n",
       "      <td>10.0</td>\n",
       "      <td>20.0</td>\n",
       "    </tr>\n",
       "    <tr>\n",
       "      <th>1</th>\n",
       "      <td>931519.0</td>\n",
       "      <td>5.240952</td>\n",
       "      <td>6.520811</td>\n",
       "      <td>0.0</td>\n",
       "      <td>0.0</td>\n",
       "      <td>1.0</td>\n",
       "      <td>10.0</td>\n",
       "      <td>20.0</td>\n",
       "    </tr>\n",
       "  </tbody>\n",
       "</table>\n",
       "</div>"
      ],
      "text/plain": [
       "        activity_level                                               \n",
       "                 count      mean       std  min  25%  50%   75%   max\n",
       "groupid                                                              \n",
       "0             928481.0  5.245635  6.521184  0.0  0.0  1.0  10.0  20.0\n",
       "1             931519.0  5.240952  6.520811  0.0  0.0  1.0  10.0  20.0"
      ]
     },
     "execution_count": 66,
     "metadata": {},
     "output_type": "execute_result"
    }
   ],
   "source": [
    "# For the sake of the comparission let's look at the data before the test\n",
    "data_act[data_act['dt'] < \"2021-11-01\"].groupby(['groupid']).describe()"
   ]
  },
  {
   "cell_type": "markdown",
   "id": "39cf46cb-0c1e-40f2-9a36-631a7dbaacf5",
   "metadata": {},
   "source": [
    "### Comparing the activity between the groups"
   ]
  },
  {
   "cell_type": "markdown",
   "id": "dfe26f82-0648-4b16-acac-3dd2f4b907f2",
   "metadata": {},
   "source": [
    "By the activity levels"
   ]
  },
  {
   "cell_type": "code",
   "execution_count": 67,
   "id": "fcfc3b59-eb27-4067-b5ee-ad05e34b30b5",
   "metadata": {},
   "outputs": [
    {
     "data": {
      "text/plain": [
       "array([ 0,  0,  0, ..., 20, 20, 20])"
      ]
     },
     "execution_count": 67,
     "metadata": {},
     "output_type": "execute_result"
    }
   ],
   "source": [
    "data_act[data_act['groupid'] == 0]['activity_level'].to_numpy()"
   ]
  },
  {
   "cell_type": "code",
   "execution_count": 69,
   "id": "15019ca0-7a63-44d1-9dce-916ddacf28eb",
   "metadata": {},
   "outputs": [
    {
     "name": "stdout",
     "output_type": "stream",
     "text": [
      "0.0\n"
     ]
    }
   ],
   "source": [
    "res = ttest_ind(data_act.query('groupid == 0 and dt >= \"2021-11-01\"')['activity_level'].to_numpy(),\n",
    "                data_act.query('groupid == 1 and dt >= \"2021-11-01\"')['activity_level'].to_numpy()).pvalue\n",
    "\n",
    "print(res)"
   ]
  },
  {
   "cell_type": "code",
   "execution_count": 70,
   "id": "280e6387-de54-467e-92bc-09056d989109",
   "metadata": {},
   "outputs": [
    {
     "data": {
      "text/plain": [
       "'0.0000000000000000000000000000000000000000000000000000000000000000000000000000000000000000000000000000'"
      ]
     },
     "execution_count": 70,
     "metadata": {},
     "output_type": "execute_result"
    }
   ],
   "source": [
    "# On the basis of this resuls we reject the null hypothesis, it seems that changes in question lead to signifficant increase in user activity\n",
    "\"{:.100f}\".format(res)"
   ]
  },
  {
   "cell_type": "markdown",
   "id": "811ad1c5-021f-4081-986a-7694701220c9",
   "metadata": {},
   "source": [
    "### Click through rate (CTR)"
   ]
  },
  {
   "cell_type": "code",
   "execution_count": 71,
   "id": "55b3440e-f138-4226-8929-da46fd60ed1b",
   "metadata": {},
   "outputs": [],
   "source": [
    "# Loading data for CTR test\n",
    "data_ctr = pd.read_csv(\"./Ctr_all.csv\")"
   ]
  },
  {
   "cell_type": "code",
   "execution_count": 72,
   "id": "a6fe2a7e-0fa4-4e11-bbbe-1199c888e04e",
   "metadata": {},
   "outputs": [
    {
     "data": {
      "text/html": [
       "<div>\n",
       "<style scoped>\n",
       "    .dataframe tbody tr th:only-of-type {\n",
       "        vertical-align: middle;\n",
       "    }\n",
       "\n",
       "    .dataframe tbody tr th {\n",
       "        vertical-align: top;\n",
       "    }\n",
       "\n",
       "    .dataframe thead th {\n",
       "        text-align: right;\n",
       "    }\n",
       "</style>\n",
       "<table border=\"1\" class=\"dataframe\">\n",
       "  <thead>\n",
       "    <tr style=\"text-align: right;\">\n",
       "      <th></th>\n",
       "      <th>userid</th>\n",
       "      <th>dt</th>\n",
       "      <th>groupid</th>\n",
       "      <th>ctr</th>\n",
       "    </tr>\n",
       "  </thead>\n",
       "  <tbody>\n",
       "    <tr>\n",
       "      <th>0</th>\n",
       "      <td>60389fa7-2d71-4cdf-831c-c2bb277ffa1e</td>\n",
       "      <td>2021-11-13</td>\n",
       "      <td>0</td>\n",
       "      <td>31.81</td>\n",
       "    </tr>\n",
       "    <tr>\n",
       "      <th>1</th>\n",
       "      <td>b59cb225-d160-4851-92d2-7cc8120a2f63</td>\n",
       "      <td>2021-11-13</td>\n",
       "      <td>0</td>\n",
       "      <td>30.46</td>\n",
       "    </tr>\n",
       "    <tr>\n",
       "      <th>2</th>\n",
       "      <td>aa336050-934e-453f-a5b0-dd881fcd114e</td>\n",
       "      <td>2021-11-13</td>\n",
       "      <td>0</td>\n",
       "      <td>34.25</td>\n",
       "    </tr>\n",
       "    <tr>\n",
       "      <th>3</th>\n",
       "      <td>8df767f4-a10f-4322-a722-676b7e02b372</td>\n",
       "      <td>2021-11-13</td>\n",
       "      <td>0</td>\n",
       "      <td>34.92</td>\n",
       "    </tr>\n",
       "    <tr>\n",
       "      <th>4</th>\n",
       "      <td>a74762ed-4da0-42ab-91d2-40d7e808dfe9</td>\n",
       "      <td>2021-11-13</td>\n",
       "      <td>0</td>\n",
       "      <td>34.95</td>\n",
       "    </tr>\n",
       "  </tbody>\n",
       "</table>\n",
       "</div>"
      ],
      "text/plain": [
       "                                 userid          dt  groupid    ctr\n",
       "0  60389fa7-2d71-4cdf-831c-c2bb277ffa1e  2021-11-13        0  31.81\n",
       "1  b59cb225-d160-4851-92d2-7cc8120a2f63  2021-11-13        0  30.46\n",
       "2  aa336050-934e-453f-a5b0-dd881fcd114e  2021-11-13        0  34.25\n",
       "3  8df767f4-a10f-4322-a722-676b7e02b372  2021-11-13        0  34.92\n",
       "4  a74762ed-4da0-42ab-91d2-40d7e808dfe9  2021-11-13        0  34.95"
      ]
     },
     "execution_count": 72,
     "metadata": {},
     "output_type": "execute_result"
    }
   ],
   "source": [
    "data_ctr.head()"
   ]
  },
  {
   "cell_type": "code",
   "execution_count": 75,
   "id": "133cf1a1-3b2c-480b-a0f5-26a7f8d8d8e3",
   "metadata": {},
   "outputs": [
    {
     "data": {
      "text/html": [
       "<div>\n",
       "<style scoped>\n",
       "    .dataframe tbody tr th:only-of-type {\n",
       "        vertical-align: middle;\n",
       "    }\n",
       "\n",
       "    .dataframe tbody tr th {\n",
       "        vertical-align: top;\n",
       "    }\n",
       "\n",
       "    .dataframe thead th {\n",
       "        text-align: right;\n",
       "    }\n",
       "</style>\n",
       "<table border=\"1\" class=\"dataframe\">\n",
       "  <thead>\n",
       "    <tr style=\"text-align: right;\">\n",
       "      <th></th>\n",
       "      <th>groupid</th>\n",
       "      <th>dt</th>\n",
       "      <th>ctr</th>\n",
       "    </tr>\n",
       "  </thead>\n",
       "  <tbody>\n",
       "    <tr>\n",
       "      <th>0</th>\n",
       "      <td>0</td>\n",
       "      <td>2021-10-01</td>\n",
       "      <td>32.980627</td>\n",
       "    </tr>\n",
       "    <tr>\n",
       "      <th>1</th>\n",
       "      <td>0</td>\n",
       "      <td>2021-10-02</td>\n",
       "      <td>33.004056</td>\n",
       "    </tr>\n",
       "    <tr>\n",
       "      <th>2</th>\n",
       "      <td>0</td>\n",
       "      <td>2021-10-03</td>\n",
       "      <td>33.002006</td>\n",
       "    </tr>\n",
       "    <tr>\n",
       "      <th>3</th>\n",
       "      <td>0</td>\n",
       "      <td>2021-10-04</td>\n",
       "      <td>32.990363</td>\n",
       "    </tr>\n",
       "    <tr>\n",
       "      <th>4</th>\n",
       "      <td>0</td>\n",
       "      <td>2021-10-05</td>\n",
       "      <td>33.014167</td>\n",
       "    </tr>\n",
       "    <tr>\n",
       "      <th>...</th>\n",
       "      <td>...</td>\n",
       "      <td>...</td>\n",
       "      <td>...</td>\n",
       "    </tr>\n",
       "    <tr>\n",
       "      <th>117</th>\n",
       "      <td>1</td>\n",
       "      <td>2021-11-26</td>\n",
       "      <td>37.997834</td>\n",
       "    </tr>\n",
       "    <tr>\n",
       "      <th>118</th>\n",
       "      <td>1</td>\n",
       "      <td>2021-11-27</td>\n",
       "      <td>37.978912</td>\n",
       "    </tr>\n",
       "    <tr>\n",
       "      <th>119</th>\n",
       "      <td>1</td>\n",
       "      <td>2021-11-28</td>\n",
       "      <td>37.992709</td>\n",
       "    </tr>\n",
       "    <tr>\n",
       "      <th>120</th>\n",
       "      <td>1</td>\n",
       "      <td>2021-11-29</td>\n",
       "      <td>37.987909</td>\n",
       "    </tr>\n",
       "    <tr>\n",
       "      <th>121</th>\n",
       "      <td>1</td>\n",
       "      <td>2021-11-30</td>\n",
       "      <td>37.997982</td>\n",
       "    </tr>\n",
       "  </tbody>\n",
       "</table>\n",
       "<p>122 rows × 3 columns</p>\n",
       "</div>"
      ],
      "text/plain": [
       "     groupid          dt        ctr\n",
       "0          0  2021-10-01  32.980627\n",
       "1          0  2021-10-02  33.004056\n",
       "2          0  2021-10-03  33.002006\n",
       "3          0  2021-10-04  32.990363\n",
       "4          0  2021-10-05  33.014167\n",
       "..       ...         ...        ...\n",
       "117        1  2021-11-26  37.997834\n",
       "118        1  2021-11-27  37.978912\n",
       "119        1  2021-11-28  37.992709\n",
       "120        1  2021-11-29  37.987909\n",
       "121        1  2021-11-30  37.997982\n",
       "\n",
       "[122 rows x 3 columns]"
      ]
     },
     "execution_count": 75,
     "metadata": {},
     "output_type": "execute_result"
    }
   ],
   "source": [
    "data_ctr_avg = data_ctr.groupby(['groupid','dt'])['ctr'].mean().reset_index()\n",
    "data_ctr_avg"
   ]
  },
  {
   "cell_type": "code",
   "execution_count": 76,
   "id": "c249e2ee-5405-482b-81fb-b395fe656543",
   "metadata": {},
   "outputs": [
    {
     "data": {
      "text/html": [
       "\n",
       "<style>\n",
       "  #altair-viz-b0a7d97e4ec54b3ca183244bf3594590.vega-embed {\n",
       "    width: 100%;\n",
       "    display: flex;\n",
       "  }\n",
       "\n",
       "  #altair-viz-b0a7d97e4ec54b3ca183244bf3594590.vega-embed details,\n",
       "  #altair-viz-b0a7d97e4ec54b3ca183244bf3594590.vega-embed details summary {\n",
       "    position: relative;\n",
       "  }\n",
       "</style>\n",
       "<div id=\"altair-viz-b0a7d97e4ec54b3ca183244bf3594590\"></div>\n",
       "<script type=\"text/javascript\">\n",
       "  var VEGA_DEBUG = (typeof VEGA_DEBUG == \"undefined\") ? {} : VEGA_DEBUG;\n",
       "  (function(spec, embedOpt){\n",
       "    let outputDiv = document.currentScript.previousElementSibling;\n",
       "    if (outputDiv.id !== \"altair-viz-b0a7d97e4ec54b3ca183244bf3594590\") {\n",
       "      outputDiv = document.getElementById(\"altair-viz-b0a7d97e4ec54b3ca183244bf3594590\");\n",
       "    }\n",
       "    const paths = {\n",
       "      \"vega\": \"https://cdn.jsdelivr.net/npm/vega@5?noext\",\n",
       "      \"vega-lib\": \"https://cdn.jsdelivr.net/npm/vega-lib?noext\",\n",
       "      \"vega-lite\": \"https://cdn.jsdelivr.net/npm/vega-lite@5.16.3?noext\",\n",
       "      \"vega-embed\": \"https://cdn.jsdelivr.net/npm/vega-embed@6?noext\",\n",
       "    };\n",
       "\n",
       "    function maybeLoadScript(lib, version) {\n",
       "      var key = `${lib.replace(\"-\", \"\")}_version`;\n",
       "      return (VEGA_DEBUG[key] == version) ?\n",
       "        Promise.resolve(paths[lib]) :\n",
       "        new Promise(function(resolve, reject) {\n",
       "          var s = document.createElement('script');\n",
       "          document.getElementsByTagName(\"head\")[0].appendChild(s);\n",
       "          s.async = true;\n",
       "          s.onload = () => {\n",
       "            VEGA_DEBUG[key] = version;\n",
       "            return resolve(paths[lib]);\n",
       "          };\n",
       "          s.onerror = () => reject(`Error loading script: ${paths[lib]}`);\n",
       "          s.src = paths[lib];\n",
       "        });\n",
       "    }\n",
       "\n",
       "    function showError(err) {\n",
       "      outputDiv.innerHTML = `<div class=\"error\" style=\"color:red;\">${err}</div>`;\n",
       "      throw err;\n",
       "    }\n",
       "\n",
       "    function displayChart(vegaEmbed) {\n",
       "      vegaEmbed(outputDiv, spec, embedOpt)\n",
       "        .catch(err => showError(`Javascript Error: ${err.message}<br>This usually means there's a typo in your chart specification. See the javascript console for the full traceback.`));\n",
       "    }\n",
       "\n",
       "    if(typeof define === \"function\" && define.amd) {\n",
       "      requirejs.config({paths});\n",
       "      require([\"vega-embed\"], displayChart, err => showError(`Error loading script: ${err.message}`));\n",
       "    } else {\n",
       "      maybeLoadScript(\"vega\", \"5\")\n",
       "        .then(() => maybeLoadScript(\"vega-lite\", \"5.16.3\"))\n",
       "        .then(() => maybeLoadScript(\"vega-embed\", \"6\"))\n",
       "        .catch(showError)\n",
       "        .then(() => displayChart(vegaEmbed));\n",
       "    }\n",
       "  })({\"config\": {\"view\": {\"continuousWidth\": 300, \"continuousHeight\": 300}}, \"data\": {\"name\": \"data-bfb49b1a2a499b9338312eaf8832d98d\"}, \"mark\": {\"type\": \"line\", \"size\": 5}, \"encoding\": {\"color\": {\"field\": \"groupid\", \"type\": \"ordinal\"}, \"tooltip\": [{\"field\": \"ctr\", \"type\": \"quantitative\"}], \"x\": {\"field\": \"dt\", \"type\": \"nominal\"}, \"y\": {\"field\": \"ctr\", \"type\": \"quantitative\"}}, \"height\": 400, \"width\": 600, \"$schema\": \"https://vega.github.io/schema/vega-lite/v5.16.3.json\", \"datasets\": {\"data-bfb49b1a2a499b9338312eaf8832d98d\": [{\"groupid\": 0, \"dt\": \"2021-10-01\", \"ctr\": 32.98062658929386}, {\"groupid\": 0, \"dt\": \"2021-10-02\", \"ctr\": 33.00405627198124}, {\"groupid\": 0, \"dt\": \"2021-10-03\", \"ctr\": 33.002006094793494}, {\"groupid\": 0, \"dt\": \"2021-10-04\", \"ctr\": 32.99036289527316}, {\"groupid\": 0, \"dt\": \"2021-10-05\", \"ctr\": 33.01416699722332}, {\"groupid\": 0, \"dt\": \"2021-10-06\", \"ctr\": 33.02166025432018}, {\"groupid\": 0, \"dt\": \"2021-10-07\", \"ctr\": 32.97636582822886}, {\"groupid\": 0, \"dt\": \"2021-10-08\", \"ctr\": 33.003954548414406}, {\"groupid\": 0, \"dt\": \"2021-10-09\", \"ctr\": 33.02420792401275}, {\"groupid\": 0, \"dt\": \"2021-10-10\", \"ctr\": 33.002929240034035}, {\"groupid\": 0, \"dt\": \"2021-10-11\", \"ctr\": 32.990675817680284}, {\"groupid\": 0, \"dt\": \"2021-10-12\", \"ctr\": 32.982114453891434}, {\"groupid\": 0, \"dt\": \"2021-10-13\", \"ctr\": 33.00414308073562}, {\"groupid\": 0, \"dt\": \"2021-10-14\", \"ctr\": 32.99352795031056}, {\"groupid\": 0, \"dt\": \"2021-10-15\", \"ctr\": 33.01448648294822}, {\"groupid\": 0, \"dt\": \"2021-10-16\", \"ctr\": 32.99120927808183}, {\"groupid\": 0, \"dt\": \"2021-10-17\", \"ctr\": 32.994388204795854}, {\"groupid\": 0, \"dt\": \"2021-10-18\", \"ctr\": 33.001452374704805}, {\"groupid\": 0, \"dt\": \"2021-10-19\", \"ctr\": 33.010430634516105}, {\"groupid\": 0, \"dt\": \"2021-10-20\", \"ctr\": 32.99715316603823}, {\"groupid\": 0, \"dt\": \"2021-10-21\", \"ctr\": 32.99495625688549}, {\"groupid\": 0, \"dt\": \"2021-10-22\", \"ctr\": 33.007837327429016}, {\"groupid\": 0, \"dt\": \"2021-10-23\", \"ctr\": 33.02130354432051}, {\"groupid\": 0, \"dt\": \"2021-10-24\", \"ctr\": 32.96157039711191}, {\"groupid\": 0, \"dt\": \"2021-10-25\", \"ctr\": 32.997385838056154}, {\"groupid\": 0, \"dt\": \"2021-10-26\", \"ctr\": 33.02775523560209}, {\"groupid\": 0, \"dt\": \"2021-10-27\", \"ctr\": 33.008124070120964}, {\"groupid\": 0, \"dt\": \"2021-10-28\", \"ctr\": 33.00568031618504}, {\"groupid\": 0, \"dt\": \"2021-10-29\", \"ctr\": 33.00055146575523}, {\"groupid\": 0, \"dt\": \"2021-10-30\", \"ctr\": 33.000058227019956}, {\"groupid\": 0, \"dt\": \"2021-10-31\", \"ctr\": 33.003953840084165}, {\"groupid\": 0, \"dt\": \"2021-11-01\", \"ctr\": 32.982671211457884}, {\"groupid\": 0, \"dt\": \"2021-11-02\", \"ctr\": 33.01498315027459}, {\"groupid\": 0, \"dt\": \"2021-11-03\", \"ctr\": 33.008268427939434}, {\"groupid\": 0, \"dt\": \"2021-11-04\", \"ctr\": 32.98667892768079}, {\"groupid\": 0, \"dt\": \"2021-11-05\", \"ctr\": 33.00476597070738}, {\"groupid\": 0, \"dt\": \"2021-11-06\", \"ctr\": 32.998322181226946}, {\"groupid\": 0, \"dt\": \"2021-11-07\", \"ctr\": 33.00622760800843}, {\"groupid\": 0, \"dt\": \"2021-11-08\", \"ctr\": 32.99077858427942}, {\"groupid\": 0, \"dt\": \"2021-11-09\", \"ctr\": 33.021024885601456}, {\"groupid\": 0, \"dt\": \"2021-11-10\", \"ctr\": 32.99329080675422}, {\"groupid\": 0, \"dt\": \"2021-11-11\", \"ctr\": 33.00973761296354}, {\"groupid\": 0, \"dt\": \"2021-11-12\", \"ctr\": 32.98669714357778}, {\"groupid\": 0, \"dt\": \"2021-11-13\", \"ctr\": 32.9809378325925}, {\"groupid\": 0, \"dt\": \"2021-11-14\", \"ctr\": 33.0229763986014}, {\"groupid\": 0, \"dt\": \"2021-11-15\", \"ctr\": 32.98153984607745}, {\"groupid\": 0, \"dt\": \"2021-11-16\", \"ctr\": 32.99275716851428}, {\"groupid\": 0, \"dt\": \"2021-11-17\", \"ctr\": 32.98997876990322}, {\"groupid\": 0, \"dt\": \"2021-11-18\", \"ctr\": 32.9980620978322}, {\"groupid\": 0, \"dt\": \"2021-11-19\", \"ctr\": 32.99927657724789}, {\"groupid\": 0, \"dt\": \"2021-11-20\", \"ctr\": 32.98435487880671}, {\"groupid\": 0, \"dt\": \"2021-11-21\", \"ctr\": 33.01392049169609}, {\"groupid\": 0, \"dt\": \"2021-11-22\", \"ctr\": 33.006160978496744}, {\"groupid\": 0, \"dt\": \"2021-11-23\", \"ctr\": 32.99264911825726}, {\"groupid\": 0, \"dt\": \"2021-11-24\", \"ctr\": 32.995949895615865}, {\"groupid\": 0, \"dt\": \"2021-11-25\", \"ctr\": 32.97369649805447}, {\"groupid\": 0, \"dt\": \"2021-11-26\", \"ctr\": 32.98306712202811}, {\"groupid\": 0, \"dt\": \"2021-11-27\", \"ctr\": 32.998942169305245}, {\"groupid\": 0, \"dt\": \"2021-11-28\", \"ctr\": 32.99494667277367}, {\"groupid\": 0, \"dt\": \"2021-11-29\", \"ctr\": 33.00110054701745}, {\"groupid\": 0, \"dt\": \"2021-11-30\", \"ctr\": 32.99472551342812}, {\"groupid\": 1, \"dt\": \"2021-10-01\", \"ctr\": 33.00629862064457}, {\"groupid\": 1, \"dt\": \"2021-10-02\", \"ctr\": 32.97932624343428}, {\"groupid\": 1, \"dt\": \"2021-10-03\", \"ctr\": 32.98813891420388}, {\"groupid\": 1, \"dt\": \"2021-10-04\", \"ctr\": 32.99559591889784}, {\"groupid\": 1, \"dt\": \"2021-10-05\", \"ctr\": 32.994796274738064}, {\"groupid\": 1, \"dt\": \"2021-10-06\", \"ctr\": 33.015461317302666}, {\"groupid\": 1, \"dt\": \"2021-10-07\", \"ctr\": 33.00067752272579}, {\"groupid\": 1, \"dt\": \"2021-10-08\", \"ctr\": 32.99331299612937}, {\"groupid\": 1, \"dt\": \"2021-10-09\", \"ctr\": 32.98615221170562}, {\"groupid\": 1, \"dt\": \"2021-10-10\", \"ctr\": 33.011332331416625}, {\"groupid\": 1, \"dt\": \"2021-10-11\", \"ctr\": 32.98992596475136}, {\"groupid\": 1, \"dt\": \"2021-10-12\", \"ctr\": 33.01009529983793}, {\"groupid\": 1, \"dt\": \"2021-10-13\", \"ctr\": 32.96447332598691}, {\"groupid\": 1, \"dt\": \"2021-10-14\", \"ctr\": 33.006175993774725}, {\"groupid\": 1, \"dt\": \"2021-10-15\", \"ctr\": 33.00258072916667}, {\"groupid\": 1, \"dt\": \"2021-10-16\", \"ctr\": 32.990841796875}, {\"groupid\": 1, \"dt\": \"2021-10-17\", \"ctr\": 33.00950754359611}, {\"groupid\": 1, \"dt\": \"2021-10-18\", \"ctr\": 33.01399029126214}, {\"groupid\": 1, \"dt\": \"2021-10-19\", \"ctr\": 32.99257982203612}, {\"groupid\": 1, \"dt\": \"2021-10-20\", \"ctr\": 33.012096282359046}, {\"groupid\": 1, \"dt\": \"2021-10-21\", \"ctr\": 33.00020230456986}, {\"groupid\": 1, \"dt\": \"2021-10-22\", \"ctr\": 33.00572320431097}, {\"groupid\": 1, \"dt\": \"2021-10-23\", \"ctr\": 33.00335355621531}, {\"groupid\": 1, \"dt\": \"2021-10-24\", \"ctr\": 33.0069234790564}, {\"groupid\": 1, \"dt\": \"2021-10-25\", \"ctr\": 32.98301932525385}, {\"groupid\": 1, \"dt\": \"2021-10-26\", \"ctr\": 33.00083999220425}, {\"groupid\": 1, \"dt\": \"2021-10-27\", \"ctr\": 33.005947901591895}, {\"groupid\": 1, \"dt\": \"2021-10-28\", \"ctr\": 33.00574117647059}, {\"groupid\": 1, \"dt\": \"2021-10-29\", \"ctr\": 33.00783867431814}, {\"groupid\": 1, \"dt\": \"2021-10-30\", \"ctr\": 33.03274001173173}, {\"groupid\": 1, \"dt\": \"2021-10-31\", \"ctr\": 32.97118672849585}, {\"groupid\": 1, \"dt\": \"2021-11-01\", \"ctr\": 37.9946186643018}, {\"groupid\": 1, \"dt\": \"2021-11-02\", \"ctr\": 38.01365632148588}, {\"groupid\": 1, \"dt\": \"2021-11-03\", \"ctr\": 37.99556200095543}, {\"groupid\": 1, \"dt\": \"2021-11-04\", \"ctr\": 37.988511634263844}, {\"groupid\": 1, \"dt\": \"2021-11-05\", \"ctr\": 38.00281565312245}, {\"groupid\": 1, \"dt\": \"2021-11-06\", \"ctr\": 38.01312666348188}, {\"groupid\": 1, \"dt\": \"2021-11-07\", \"ctr\": 37.99576243377201}, {\"groupid\": 1, \"dt\": \"2021-11-08\", \"ctr\": 37.99487099750538}, {\"groupid\": 1, \"dt\": \"2021-11-09\", \"ctr\": 38.01321723690501}, {\"groupid\": 1, \"dt\": \"2021-11-10\", \"ctr\": 37.99005896387185}, {\"groupid\": 1, \"dt\": \"2021-11-11\", \"ctr\": 37.994286006337525}, {\"groupid\": 1, \"dt\": \"2021-11-12\", \"ctr\": 37.99615957374138}, {\"groupid\": 1, \"dt\": \"2021-11-13\", \"ctr\": 38.004073074031034}, {\"groupid\": 1, \"dt\": \"2021-11-14\", \"ctr\": 38.002104563126665}, {\"groupid\": 1, \"dt\": \"2021-11-15\", \"ctr\": 37.99379248048539}, {\"groupid\": 1, \"dt\": \"2021-11-16\", \"ctr\": 38.00073617747441}, {\"groupid\": 1, \"dt\": \"2021-11-17\", \"ctr\": 38.01606465046422}, {\"groupid\": 1, \"dt\": \"2021-11-18\", \"ctr\": 38.00059780009565}, {\"groupid\": 1, \"dt\": \"2021-11-19\", \"ctr\": 37.99372593199508}, {\"groupid\": 1, \"dt\": \"2021-11-20\", \"ctr\": 37.99248218486822}, {\"groupid\": 1, \"dt\": \"2021-11-21\", \"ctr\": 37.99136715684602}, {\"groupid\": 1, \"dt\": \"2021-11-22\", \"ctr\": 37.99126989548466}, {\"groupid\": 1, \"dt\": \"2021-11-23\", \"ctr\": 37.99545767918089}, {\"groupid\": 1, \"dt\": \"2021-11-24\", \"ctr\": 37.98753166934135}, {\"groupid\": 1, \"dt\": \"2021-11-25\", \"ctr\": 37.99161564451725}, {\"groupid\": 1, \"dt\": \"2021-11-26\", \"ctr\": 37.99783435143159}, {\"groupid\": 1, \"dt\": \"2021-11-27\", \"ctr\": 37.97891209540034}, {\"groupid\": 1, \"dt\": \"2021-11-28\", \"ctr\": 37.992709322583956}, {\"groupid\": 1, \"dt\": \"2021-11-29\", \"ctr\": 37.987909112636146}, {\"groupid\": 1, \"dt\": \"2021-11-30\", \"ctr\": 37.99798209788305}]}}, {\"mode\": \"vega-lite\"});\n",
       "</script>"
      ],
      "text/plain": [
       "alt.Chart(...)"
      ]
     },
     "execution_count": 76,
     "metadata": {},
     "output_type": "execute_result"
    }
   ],
   "source": [
    "alt.Chart(data_ctr_avg).mark_line(size=5).encode(\n",
    "    alt.X('dt'),\n",
    "    alt.Y('ctr'),\n",
    "    color='groupid:O',\n",
    "    tooltip=['ctr']\n",
    ").properties(\n",
    "    width=600,\n",
    "    height=400\n",
    ")"
   ]
  },
  {
   "cell_type": "code",
   "execution_count": 77,
   "id": "0fcb9999-0c2f-4f51-9f61-ff7bcf9065eb",
   "metadata": {},
   "outputs": [],
   "source": [
    "before = data_ctr[data_ctr['dt'] < \"2021-11-01\"][['groupid', 'ctr']]"
   ]
  },
  {
   "cell_type": "code",
   "execution_count": 78,
   "id": "7afe0b57-06da-4602-a6c7-e5f8975d5942",
   "metadata": {},
   "outputs": [],
   "source": [
    "after = data_ctr[data_ctr['dt'] >= \"2021-11-01\"][['groupid', 'ctr']]"
   ]
  },
  {
   "cell_type": "code",
   "execution_count": 86,
   "id": "e361078c-b856-4c7a-b309-647135e7a5dd",
   "metadata": {},
   "outputs": [
    {
     "data": {
      "text/plain": [
       "33.00091277553074"
      ]
     },
     "execution_count": 86,
     "metadata": {},
     "output_type": "execute_result"
    }
   ],
   "source": [
    "# Let's compare the data prior to test \n",
    "before[before['groupid'] == 0]['ctr'].to_numpy().mean()"
   ]
  },
  {
   "cell_type": "code",
   "execution_count": 87,
   "id": "b93896aa-f0a5-44fd-ae37-8833fc15eefb",
   "metadata": {},
   "outputs": [
    {
     "data": {
      "text/plain": [
       "32.99957172093258"
      ]
     },
     "execution_count": 87,
     "metadata": {},
     "output_type": "execute_result"
    }
   ],
   "source": [
    "before[before['groupid'] == 1]['ctr'].to_numpy().mean()"
   ]
  },
  {
   "cell_type": "code",
   "execution_count": 88,
   "id": "30b93d91-cac5-4d48-82c2-a9920d838706",
   "metadata": {},
   "outputs": [
    {
     "data": {
      "text/plain": [
       "32.996977569382835"
      ]
     },
     "execution_count": 88,
     "metadata": {},
     "output_type": "execute_result"
    }
   ],
   "source": [
    "# And after the test\n",
    "after[after['groupid'] == 0]['ctr'].to_numpy().mean()"
   ]
  },
  {
   "cell_type": "code",
   "execution_count": 89,
   "id": "a602b9c2-1c9d-45cc-bc4c-55d28278d151",
   "metadata": {},
   "outputs": [
    {
     "data": {
      "text/plain": [
       "37.99695912626142"
      ]
     },
     "execution_count": 89,
     "metadata": {},
     "output_type": "execute_result"
    }
   ],
   "source": [
    "after[after['groupid'] == 1]['ctr'].to_numpy().mean()"
   ]
  },
  {
   "cell_type": "code",
   "execution_count": 91,
   "id": "8ed1a047-7d6e-4e68-9540-f9c8819b4c52",
   "metadata": {},
   "outputs": [
    {
     "name": "stdout",
     "output_type": "stream",
     "text": [
      "0.705741417344299\n"
     ]
    }
   ],
   "source": [
    "# Comparing the groups before\n",
    "res = ttest_ind(before[before['groupid'] == 0]['ctr'].to_numpy(), before[before['groupid'] == 1]['ctr']\n",
    "                .to_numpy()).pvalue\n",
    "\n",
    "print(res)"
   ]
  },
  {
   "cell_type": "code",
   "execution_count": 92,
   "id": "c45520bd-6b71-4fee-814d-ce925cad4b8c",
   "metadata": {},
   "outputs": [
    {
     "name": "stdout",
     "output_type": "stream",
     "text": [
      "0.0\n"
     ]
    }
   ],
   "source": [
    "# Groups after\n",
    "res = ttest_ind(after[after['groupid'] == 0]['ctr'].to_numpy(), after[after['groupid'] == 1]['ctr']\n",
    "                .to_numpy()).pvalue\n",
    "\n",
    "print(res)"
   ]
  },
  {
   "cell_type": "code",
   "execution_count": 94,
   "id": "e82c0078-bfde-4b95-a1e6-f80baed78c11",
   "metadata": {},
   "outputs": [
    {
     "data": {
      "text/plain": [
       "'0.0000000000000000000000000000000000000000000000000000000000000000000000000000000000000000000000000000'"
      ]
     },
     "execution_count": 94,
     "metadata": {},
     "output_type": "execute_result"
    }
   ],
   "source": [
    "# The difference is signifficant, reject the null hypothesis\n",
    "\"{:.100f}\".format(res)"
   ]
  }
 ],
 "metadata": {
  "kernelspec": {
   "display_name": "Python 3 (ipykernel)",
   "language": "python",
   "name": "python3"
  },
  "language_info": {
   "codemirror_mode": {
    "name": "ipython",
    "version": 3
   },
   "file_extension": ".py",
   "mimetype": "text/x-python",
   "name": "python",
   "nbconvert_exporter": "python",
   "pygments_lexer": "ipython3",
   "version": "3.10.6"
  }
 },
 "nbformat": 4,
 "nbformat_minor": 5
}
